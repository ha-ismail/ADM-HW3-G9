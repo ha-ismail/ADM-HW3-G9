{
 "cells": [
  {
   "cell_type": "code",
   "execution_count": 4,
   "metadata": {},
   "outputs": [],
   "source": [
    "from IPython.display import HTML, display\n",
    "from urllib.request import urlopen\n",
    "#css = urlopen('style/style.css')\n",
    "#HTML(css.read().decode('utf-8'))\n",
    "\n"
   ]
  },
  {
   "cell_type": "code",
   "execution_count": 5,
   "metadata": {},
   "outputs": [
    {
     "data": {
      "text/html": [
       "<style>.container {\n",
       "    width:100%;\n",
       "    border:1px solid #eee;\n",
       "    margin: 3px;\n",
       "    padding:3px;\n",
       "    font-family: Tahoma;\n",
       "    background-color: #91ced4;\n",
       "    text-align: left;\n",
       "    float: left;\n",
       "    position: relative;\n",
       "    left: 0;\n",
       "    \n",
       "}\n",
       "table, tr, td, th{\n",
       "    text-align:left;\n",
       "}\n",
       "\n",
       ".container .div_result{\n",
       "    width:90%;\n",
       "    float: left;\n",
       "    position: relative;\n",
       "    left: 5%;\n",
       "    top: 10px;\n",
       "    \n",
       "    \n",
       "}\n",
       "\n",
       ".container table td, table th {\n",
       "  color: #2b686e;\n",
       "  padding: 10px;\n",
       "}\n",
       ".container table td {\n",
       "  text-align: center;\n",
       "  vertical-align: middle;\n",
       "}\n",
       ".container table td:last-child {\n",
       "  font-size: 0.95em;\n",
       "  line-height: 1.4;\n",
       "  text-align: left;\n",
       "}\n",
       ".container table th {\n",
       "  background-color: #daeff1;\n",
       "  font-weight: 300;\n",
       "}\n",
       ".container table tr:nth-child(2n) {\n",
       "  background-color: white;\n",
       "}\n",
       ".container table tr:nth-child(2n+1) {\n",
       "  background-color: #edf7f8;\n",
       "}\n",
       ".container table tr:hover {\n",
       "  background-color: #efe1ac;\n",
       "  border: 1px solid #f4ce42;\n",
       "\n",
       "}\n",
       ".Hoohle{\n",
       "    font-family:arial,sans-serif;\n",
       "    width:100%;\n",
       "    border:1px solid #eee;\n",
       "    margin: 3px;\n",
       "    padding:3px;\n",
       "    background-color: #fff;\n",
       "    text-align: left;\n",
       "    float: left;\n",
       "    position: relative;\n",
       "    left: 0;\n",
       "}\n",
       ".Hoohle h_results{\n",
       "    margin:3px;\n",
       "}\n",
       ".Hoohle div.h_result{\n",
       "    padding-left:3px;\n",
       "    margin-bottom:10px;\n",
       "    width: 600px;\n",
       "}\n",
       ".Hoohle div.h_result:hover{\n",
       "    /*background-color: #eee;*/\n",
       "    border-right:2px solid #acc6ef;\n",
       "    \n",
       "}\n",
       "\n",
       ".Hoohle div.h_score{\n",
       "    /*padding-left:3px;\n",
       "    margin-bottom:10px;\n",
       "    width: 600px;*/\n",
       "    color: #f45c42;\n",
       "}\n",
       ".Hoohle div{\n",
       "    font-family:arial,sans-serif;\n",
       "}\n",
       ".Hoohle div.h_title a:link, a:visited{\n",
       "    color: rgb(26, 13, 171);\n",
       "    display: inline-block;\n",
       "    font-size: 18px;\n",
       "    font-family:arial,sans-serif;\n",
       "}\n",
       ".Hoohle div.h_link a:link, a:visited{\n",
       "    color: #006621;\n",
       "    display: inline-block;\n",
       "    font-size: 14px;\n",
       "    font-family:arial,sans-serif;\n",
       "    padding-top:1px;\n",
       "}\n",
       ".Hoohle div.h_link a:hover{\n",
       "    text-decoration: none;\n",
       "}\n",
       ".Hoohle h_disc{\n",
       "    font-size: small;\n",
       "    \n",
       "}\n",
       ".h_disc > span:nth-child(odd)[style],\n",
       ".h_disc > span:nth-child(even)[style]{\n",
       "    font-style: normal; !important;\n",
       "}\n",
       "\n",
       "/* unvisited link */\n",
       ".container a:link {\n",
       "    color: red;\n",
       "}\n",
       "\n",
       "/* visited link */\n",
       ".container a:visited {\n",
       "    color: green;\n",
       "}\n",
       "\n",
       "/* mouse over link */\n",
       ".container a:hover {\n",
       "    color: hotpink;\n",
       "    text-decoration: underline;\n",
       "}\n",
       "\n",
       "/* selected link */\n",
       ".container a:active {\n",
       "    color: blue;\n",
       "    text-decoration: underline;\n",
       "}\n",
       "\n",
       ".output_wrapper, .output {\n",
       "    height:auto !important;\n",
       "    max-height: none;\n",
       "}\n",
       ".output_scroll {\n",
       "    box-shadow:none !important;\n",
       "    webkit-box-shadow:none !important;\n",
       "}\n",
       "\n",
       ".package_header {\n",
       "    width: 100%;\n",
       "    background-color: #0e2b59;\n",
       "    color: #ffffff;\n",
       "    font-size: 14px;\n",
       "    text-align: center;\n",
       "    padding-top: 8px;\n",
       "    padding-right: 8px;\n",
       "    padding-bottom: 8px;\n",
       "    padding-left: 8px;\n",
       "}\n",
       "\n",
       ".placeholder {\n",
       "    width: 100%;\n",
       "    background-color: #ffffff;\n",
       "    height: 6px;\n",
       "}\n",
       "\n",
       ".passed_test_table {\n",
       "  display: table;         \n",
       "  width: 100%;         \n",
       "\n",
       "  background-color: #ebffd3;                \n",
       "  border-spacing: 5px;\n",
       "}\n",
       "\n",
       "# (...) rest of css classes omitted </style><div class=\"container\" >\n",
       "        <div class=\"div_result\">\n",
       "            <table class=\"table_result\">\n",
       "                <tr>\n",
       "                    <th> Title </th>\n",
       "                    <th> Discription </th>\n",
       "                    <th> City </th>\n",
       "                    <th> URL </th>\n",
       "                </tr>\n",
       "                <tr>\n",
       "                    <td> balsdjblad labld n</>\n",
       "                    <td> balsdjbladbalsdjbladbalsdjbladbalsdjbladbalsdjbladbalsdjbladbalsdjbladbalsdjbladbalsdjbladbalsdjblad labld n</>\n",
       "                    <td> balsdjblad labld n</>\n",
       "                    <td> <a href=\"https://google.com\">link to google </a></>\n",
       "                </tr>\n",
       "                <tr>\n",
       "                    <td> balsdjblad labld n</>\n",
       "                    <td> balsdjbladbalsdjbladbalsdjbladbalsdjbladbalsdjbladbalsdjbladbalsdjbladbalsdjbladbalsdjbladbalsdjblad labld n</>\n",
       "                    <td> balsdjblad labld n</>\n",
       "                    <td> <a href=\"https://google.com\">link to google </a></>\n",
       "                </tr>\n",
       "                <tr>\n",
       "                    <td> balsdjblad labld n</>\n",
       "                    <td> balsdjbladbalsdjbladbalsdjbladbalsdjbladbalsdjbladbalsdjbladbalsdjbladbalsdjbladbalsdjbladbalsdjblad labld n</>\n",
       "                    <td> balsdjblad labld n</>\n",
       "                    <td> <a href=\"https://google.com\">link to google </a></>\n",
       "                </tr>\n",
       "                <tr>\n",
       "                    <td> balsdjblad labld n</>\n",
       "                    <td> balsdjbladbalsdjbladbalsdjbladbalsdjbladbalsdjbladbalsdjbladbalsdjbladbalsdjbladbalsdjbladbalsdjblad labld n</>\n",
       "                    <td> balsdjblad labld n</>\n",
       "                    <td> <a href=\"https://google.com\">link to google </a></>\n",
       "                </tr>\n",
       "            </table>\n",
       "        </div>\n",
       "        </div>\n",
       "        "
      ],
      "text/plain": [
       "<IPython.core.display.HTML object>"
      ]
     },
     "metadata": {},
     "output_type": "display_data"
    }
   ],
   "source": [
    "styles = open(\"style/style.css\", \"r\").read()\n",
    "htm = '<style>%s</style>' % styles     \n",
    "\n",
    "htm += '''<div class=\"container\" >\n",
    "        <div class=\"div_result\">\n",
    "            <table class=\"table_result\">\n",
    "                <tr>\n",
    "                    <th> Title </th>\n",
    "                    <th> Discription </th>\n",
    "                    <th> City </th>\n",
    "                    <th> URL </th>\n",
    "                </tr>\n",
    "                <tr>\n",
    "                    <td> balsdjblad labld n</>\n",
    "                    <td> balsdjbladbalsdjbladbalsdjbladbalsdjbladbalsdjbladbalsdjbladbalsdjbladbalsdjbladbalsdjbladbalsdjblad labld n</>\n",
    "                    <td> balsdjblad labld n</>\n",
    "                    <td> <a href=\"https://google.com\">link to google </a></>\n",
    "                </tr>\n",
    "                <tr>\n",
    "                    <td> balsdjblad labld n</>\n",
    "                    <td> balsdjbladbalsdjbladbalsdjbladbalsdjbladbalsdjbladbalsdjbladbalsdjbladbalsdjbladbalsdjbladbalsdjblad labld n</>\n",
    "                    <td> balsdjblad labld n</>\n",
    "                    <td> <a href=\"https://google.com\">link to google </a></>\n",
    "                </tr>\n",
    "                <tr>\n",
    "                    <td> balsdjblad labld n</>\n",
    "                    <td> balsdjbladbalsdjbladbalsdjbladbalsdjbladbalsdjbladbalsdjbladbalsdjbladbalsdjbladbalsdjbladbalsdjblad labld n</>\n",
    "                    <td> balsdjblad labld n</>\n",
    "                    <td> <a href=\"https://google.com\">link to google </a></>\n",
    "                </tr>\n",
    "                <tr>\n",
    "                    <td> balsdjblad labld n</>\n",
    "                    <td> balsdjbladbalsdjbladbalsdjbladbalsdjbladbalsdjbladbalsdjbladbalsdjbladbalsdjbladbalsdjbladbalsdjblad labld n</>\n",
    "                    <td> balsdjblad labld n</>\n",
    "                    <td> <a href=\"https://google.com\">link to google </a></>\n",
    "                </tr>\n",
    "            </table>\n",
    "        </div>\n",
    "        </div>\n",
    "        '''\n",
    "display(HTML(htm))"
   ]
  },
  {
   "cell_type": "code",
   "execution_count": 6,
   "metadata": {},
   "outputs": [
    {
     "data": {
      "text/html": [
       "<style>.container {\n",
       "    width:100%;\n",
       "    border:1px solid #eee;\n",
       "    margin: 3px;\n",
       "    padding:3px;\n",
       "    font-family: Tahoma;\n",
       "    background-color: #91ced4;\n",
       "    text-align: left;\n",
       "    float: left;\n",
       "    position: relative;\n",
       "    left: 0;\n",
       "    \n",
       "}\n",
       "table, tr, td, th{\n",
       "    text-align:left;\n",
       "}\n",
       "\n",
       ".container .div_result{\n",
       "    width:90%;\n",
       "    float: left;\n",
       "    position: relative;\n",
       "    left: 5%;\n",
       "    top: 10px;\n",
       "    \n",
       "    \n",
       "}\n",
       "\n",
       ".container table td, table th {\n",
       "  color: #2b686e;\n",
       "  padding: 10px;\n",
       "}\n",
       ".container table td {\n",
       "  text-align: center;\n",
       "  vertical-align: middle;\n",
       "}\n",
       ".container table td:last-child {\n",
       "  font-size: 0.95em;\n",
       "  line-height: 1.4;\n",
       "  text-align: left;\n",
       "}\n",
       ".container table th {\n",
       "  background-color: #daeff1;\n",
       "  font-weight: 300;\n",
       "}\n",
       ".container table tr:nth-child(2n) {\n",
       "  background-color: white;\n",
       "}\n",
       ".container table tr:nth-child(2n+1) {\n",
       "  background-color: #edf7f8;\n",
       "}\n",
       ".container table tr:hover {\n",
       "  background-color: #efe1ac;\n",
       "  border: 1px solid #f4ce42;\n",
       "\n",
       "}\n",
       ".Hoohle{\n",
       "    font-family:arial,sans-serif;\n",
       "    width:100%;\n",
       "    border:1px solid #eee;\n",
       "    margin: 3px;\n",
       "    padding:3px;\n",
       "    background-color: #fff;\n",
       "    text-align: left;\n",
       "    float: left;\n",
       "    position: relative;\n",
       "    left: 0;\n",
       "}\n",
       ".Hoohle h_results{\n",
       "    margin:3px;\n",
       "}\n",
       ".Hoohle div.h_result{\n",
       "    padding-left:3px;\n",
       "    margin-bottom:10px;\n",
       "    width: 600px;\n",
       "}\n",
       ".Hoohle div.h_result:hover{\n",
       "    /*background-color: #eee;*/\n",
       "    border-right:2px solid #acc6ef;\n",
       "    \n",
       "}\n",
       "\n",
       ".Hoohle div.h_score{\n",
       "    /*padding-left:3px;\n",
       "    margin-bottom:10px;\n",
       "    width: 600px;*/\n",
       "    color: #f45c42;\n",
       "}\n",
       ".Hoohle div{\n",
       "    font-family:arial,sans-serif;\n",
       "}\n",
       ".Hoohle div.h_title a:link, a:visited{\n",
       "    color: rgb(26, 13, 171);\n",
       "    display: inline-block;\n",
       "    font-size: 18px;\n",
       "    font-family:arial,sans-serif;\n",
       "}\n",
       ".Hoohle div.h_link a:link, a:visited{\n",
       "    color: #006621;\n",
       "    display: inline-block;\n",
       "    font-size: 14px;\n",
       "    font-family:arial,sans-serif;\n",
       "    padding-top:1px;\n",
       "}\n",
       ".Hoohle div.h_link a:hover{\n",
       "    text-decoration: none;\n",
       "}\n",
       ".Hoohle h_disc{\n",
       "    font-size: small;\n",
       "    \n",
       "}\n",
       ".h_disc > span:nth-child(odd)[style],\n",
       ".h_disc > span:nth-child(even)[style]{\n",
       "    font-style: normal; !important;\n",
       "}\n",
       "\n",
       "/* unvisited link */\n",
       ".container a:link {\n",
       "    color: red;\n",
       "}\n",
       "\n",
       "/* visited link */\n",
       ".container a:visited {\n",
       "    color: green;\n",
       "}\n",
       "\n",
       "/* mouse over link */\n",
       ".container a:hover {\n",
       "    color: hotpink;\n",
       "    text-decoration: underline;\n",
       "}\n",
       "\n",
       "/* selected link */\n",
       ".container a:active {\n",
       "    color: blue;\n",
       "    text-decoration: underline;\n",
       "}\n",
       "\n",
       ".output_wrapper, .output {\n",
       "    height:auto !important;\n",
       "    max-height: none;\n",
       "}\n",
       ".output_scroll {\n",
       "    box-shadow:none !important;\n",
       "    webkit-box-shadow:none !important;\n",
       "}\n",
       "\n",
       ".package_header {\n",
       "    width: 100%;\n",
       "    background-color: #0e2b59;\n",
       "    color: #ffffff;\n",
       "    font-size: 14px;\n",
       "    text-align: center;\n",
       "    padding-top: 8px;\n",
       "    padding-right: 8px;\n",
       "    padding-bottom: 8px;\n",
       "    padding-left: 8px;\n",
       "}\n",
       "\n",
       ".placeholder {\n",
       "    width: 100%;\n",
       "    background-color: #ffffff;\n",
       "    height: 6px;\n",
       "}\n",
       "\n",
       ".passed_test_table {\n",
       "  display: table;         \n",
       "  width: 100%;         \n",
       "\n",
       "  background-color: #ebffd3;                \n",
       "  border-spacing: 5px;\n",
       "}\n",
       "\n",
       "# (...) rest of css classes omitted </style>\n",
       "<html><head>\n",
       "\n",
       "\n",
       "<!-- Load require.js. Delete this if your page already loads require.js -->\n",
       "<script src=\"https://cdnjs.cloudflare.com/ajax/libs/require.js/2.3.4/require.min.js\" integrity=\"sha256-Ae2Vz/4ePdIu6ZyI/5ZGsYnb+m0JlOmKPjt6XZ9JJkA=\" crossorigin=\"anonymous\"></script>\n",
       "<script src=\"https://unpkg.com/@jupyter-widgets/html-manager@*/dist/embed-amd.js\" crossorigin=\"anonymous\"></script>\n",
       "<script type=\"application/vnd.jupyter.widget-state+json\">\n",
       "{\n",
       "    \"version_major\": 2,\n",
       "    \"version_minor\": 0,\n",
       "    \"state\": {\n",
       "        \"b31064b297684ed0824bf73da454a115\": {\n",
       "            \"model_name\": \"LayoutModel\",\n",
       "            \"model_module\": \"@jupyter-widgets/base\",\n",
       "            \"model_module_version\": \"1.1.0\",\n",
       "            \"state\": {}\n",
       "        },\n",
       "        \"8dffc6ffb3f5462a908be108d2a00dbb\": {\n",
       "            \"model_name\": \"SliderStyleModel\",\n",
       "            \"model_module\": \"@jupyter-widgets/controls\",\n",
       "            \"model_module_version\": \"1.4.0\",\n",
       "            \"state\": {\n",
       "                \"description_width\": \"\"\n",
       "            }\n",
       "        },\n",
       "        \"a889fb1841994aba9c461dfcde87973a\": {\n",
       "            \"model_name\": \"IntSliderModel\",\n",
       "            \"model_module\": \"@jupyter-widgets/controls\",\n",
       "            \"model_module_version\": \"1.4.0\",\n",
       "            \"state\": {\n",
       "                \"layout\": \"IPY_MODEL_b31064b297684ed0824bf73da454a115\",\n",
       "                \"style\": \"IPY_MODEL_8dffc6ffb3f5462a908be108d2a00dbb\",\n",
       "                \"value\": 74\n",
       "            }\n",
       "        },\n",
       "        \"07d05fe71d9d475b9a63e33302496dc7\": {\n",
       "            \"model_name\": \"LayoutModel\",\n",
       "            \"model_module\": \"@jupyter-widgets/base\",\n",
       "            \"model_module_version\": \"1.1.0\",\n",
       "            \"state\": {}\n",
       "        },\n",
       "        \"733dfdd1146042418a78a5e936295a15\": {\n",
       "            \"model_name\": \"SliderStyleModel\",\n",
       "            \"model_module\": \"@jupyter-widgets/controls\",\n",
       "            \"model_module_version\": \"1.4.0\",\n",
       "            \"state\": {\n",
       "                \"description_width\": \"\"\n",
       "            }\n",
       "        },\n",
       "        \"94e506c55a764bb387471d82d546f78f\": {\n",
       "            \"model_name\": \"IntSliderModel\",\n",
       "            \"model_module\": \"@jupyter-widgets/controls\",\n",
       "            \"model_module_version\": \"1.4.0\",\n",
       "            \"state\": {\n",
       "                \"layout\": \"IPY_MODEL_07d05fe71d9d475b9a63e33302496dc7\",\n",
       "                \"style\": \"IPY_MODEL_733dfdd1146042418a78a5e936295a15\",\n",
       "                \"value\": 40\n",
       "            }\n",
       "        }\n",
       "    }\n",
       "}\n",
       "</script>\n",
       "</head>\n",
       "<body>\n",
       "\n",
       "<script type=\"application/vnd.jupyter.widget-view+json\">\n",
       "{\n",
       "    \"model_id\": \"a889fb1841994aba9c461dfcde87973a\",\n",
       "    \"version_major\": 2,\n",
       "    \"version_minor\": 0\n",
       "}\n",
       "</script>\n",
       "\n",
       "</body>\n",
       "</html>\n",
       "\n",
       "\n",
       "<div class=\"Hoohle\" >\n",
       "            <div class=\"h_results\">\n",
       "                <div class=\"h_result\">\n",
       "                    <div class=\"h_title\">\n",
       "                        <a title=\"HasdajshdkajhsdkHasdajshdkajhsdkHasd jas\" href=\"hrrp://\">title tile tiele tile teil</a>\n",
       "                    </div>\n",
       "                    <div class=\"h_link\" title=\"Hasdajshdkajhsdk jas\">\n",
       "                        <a href=\"http://google.com/aksdjhakdhkasdkjahdjasd\">http://google.com/aksdjhakdhkasdkjahdjasd</a>\n",
       "                    </div>\n",
       "                    <div class=\"h_disc\">\n",
       "                    discpoapsoid saasud poaid pad poad aoid paid aifsdfsbd sdnbvmnb zuw diql ,nc ,ncj z\n",
       "                    gc 8c98yw9yq9we ah khkcjgzfgkajfh afkshd fksjhf kshdfk hsdf\n",
       "                    afjh sldfj sdfhsd fisdufh ksjdfjsdfk sjdfsjdhf kjhsf\n",
       "                    </div>\n",
       "                </div>\n",
       "                <div class=\"h_result\">\n",
       "                    <div class=\"h_title\">\n",
       "                        <a href=\"hrrp://\">title tile tiele tile teil</a>\n",
       "                    </div>\n",
       "                    <div class=\"h_link\">\n",
       "                        <a href=\"http://google.com/aksdjhakdhkasdkjahdjasd\">http://google.com/aksdjhakdhkasdkjahdjasd</a>\n",
       "                    </div>\n",
       "                    <div class=\"h_disc\">\n",
       "                    discpoapsoid saasud poaid pad poad aoid paid aifsdfsbd sdnbvmnb zuw diql ,nc ,ncj z\n",
       "                    gc 8c98yw9yq9we ah khkcjgzfgkajfh afkshd fksjhf kshdfk hsdf\n",
       "                    afjh sldfj sdfhsd fisdufh ksjdfjsdfk sjdfsjdhf kjhsf\n",
       "                    </div>\n",
       "                </div>\n",
       "                <div class=\"h_result\">\n",
       "                    <div class=\"h_title\">\n",
       "                        <a href=\"hrrp://\">title tile tiele tile teil</a>\n",
       "                    </div>\n",
       "                    <div class=\"h_link\">\n",
       "                        <a href=\"http://google.com/aksdjhakdhkasdkjahdjasd\">http://google.com/aksdjhakdhkasdkjahdjasd</a>\n",
       "                    </div>\n",
       "                    <div class=\"h_disc\">\n",
       "                    discpoapsoid saasud poaid pad poad aoid paid aifsdfsbd sdnbvmnb zuw diql ,nc ,ncj z\n",
       "                    gc 8c98yw9yq9we ah khkcjgzfgkajfh afkshd fksjhf kshdfk hsdf\n",
       "                    afjh sldfj sdfhsd fisdufh ksjdfjsdfk sjdfsjdhf kjhsf\n",
       "                    </div>\n",
       "                </div>\n",
       "                <div class=\"h_result\">\n",
       "                    <div class=\"h_title\">\n",
       "                        <a href=\"hrrp://\">title tile tiele tile teil</a>\n",
       "                    </div>\n",
       "                    <div class=\"h_link\">\n",
       "                        <a href=\"http://google.com/aksdjhakdhkasdkjahdjasd\">http://google.com/aksdjhakdhkasdkjahdjasd</a>\n",
       "                    </div>\n",
       "                    <div class=\"h_disc\">\n",
       "                    discpoapsoid saasud poaid pad poad aoid paid aifsdfsbd sdnbvmnb zuw diql ,nc ,ncj z\n",
       "                    gc 8c98yw9yq9we ah khkcjgzfgkajfh afkshd fksjhf kshdfk hsdf\n",
       "                    afjh sldfj sdfhsd fisdufh ksjdfjsdfk sjdfsjdhf kjhsf\n",
       "                    </div>\n",
       "                </div>\n",
       "            </div>\n",
       "            <div class=\"h_nav\">\n",
       "            <a href=\"http://\">1</a>\n",
       "            <a href=\"http://\">2</a>\n",
       "            <a href=\"http://\">3</a>\n",
       "            <a href=\"http://\">4</a>\n",
       "            <a href=\"http://\">5</a>\n",
       "            <a href=\"http://\">6</a>\n",
       "            <a href=\"http://\">Next</a>\n",
       "            </div>\n",
       "        "
      ],
      "text/plain": [
       "<IPython.core.display.HTML object>"
      ]
     },
     "metadata": {},
     "output_type": "display_data"
    }
   ],
   "source": [
    "styles = open(\"style/style.css\", \"r\").read()\n",
    "hhtm = '<style>%s</style>' % styles     \n",
    "\n",
    "hhtm += '''\n",
    "<html><head>\n",
    "\n",
    "\n",
    "<!-- Load require.js. Delete this if your page already loads require.js -->\n",
    "<script src=\"https://cdnjs.cloudflare.com/ajax/libs/require.js/2.3.4/require.min.js\" integrity=\"sha256-Ae2Vz/4ePdIu6ZyI/5ZGsYnb+m0JlOmKPjt6XZ9JJkA=\" crossorigin=\"anonymous\"></script>\n",
    "<script src=\"https://unpkg.com/@jupyter-widgets/html-manager@*/dist/embed-amd.js\" crossorigin=\"anonymous\"></script>\n",
    "<script type=\"application/vnd.jupyter.widget-state+json\">\n",
    "{\n",
    "    \"version_major\": 2,\n",
    "    \"version_minor\": 0,\n",
    "    \"state\": {\n",
    "        \"b31064b297684ed0824bf73da454a115\": {\n",
    "            \"model_name\": \"LayoutModel\",\n",
    "            \"model_module\": \"@jupyter-widgets/base\",\n",
    "            \"model_module_version\": \"1.1.0\",\n",
    "            \"state\": {}\n",
    "        },\n",
    "        \"8dffc6ffb3f5462a908be108d2a00dbb\": {\n",
    "            \"model_name\": \"SliderStyleModel\",\n",
    "            \"model_module\": \"@jupyter-widgets/controls\",\n",
    "            \"model_module_version\": \"1.4.0\",\n",
    "            \"state\": {\n",
    "                \"description_width\": \"\"\n",
    "            }\n",
    "        },\n",
    "        \"a889fb1841994aba9c461dfcde87973a\": {\n",
    "            \"model_name\": \"IntSliderModel\",\n",
    "            \"model_module\": \"@jupyter-widgets/controls\",\n",
    "            \"model_module_version\": \"1.4.0\",\n",
    "            \"state\": {\n",
    "                \"layout\": \"IPY_MODEL_b31064b297684ed0824bf73da454a115\",\n",
    "                \"style\": \"IPY_MODEL_8dffc6ffb3f5462a908be108d2a00dbb\",\n",
    "                \"value\": 74\n",
    "            }\n",
    "        },\n",
    "        \"07d05fe71d9d475b9a63e33302496dc7\": {\n",
    "            \"model_name\": \"LayoutModel\",\n",
    "            \"model_module\": \"@jupyter-widgets/base\",\n",
    "            \"model_module_version\": \"1.1.0\",\n",
    "            \"state\": {}\n",
    "        },\n",
    "        \"733dfdd1146042418a78a5e936295a15\": {\n",
    "            \"model_name\": \"SliderStyleModel\",\n",
    "            \"model_module\": \"@jupyter-widgets/controls\",\n",
    "            \"model_module_version\": \"1.4.0\",\n",
    "            \"state\": {\n",
    "                \"description_width\": \"\"\n",
    "            }\n",
    "        },\n",
    "        \"94e506c55a764bb387471d82d546f78f\": {\n",
    "            \"model_name\": \"IntSliderModel\",\n",
    "            \"model_module\": \"@jupyter-widgets/controls\",\n",
    "            \"model_module_version\": \"1.4.0\",\n",
    "            \"state\": {\n",
    "                \"layout\": \"IPY_MODEL_07d05fe71d9d475b9a63e33302496dc7\",\n",
    "                \"style\": \"IPY_MODEL_733dfdd1146042418a78a5e936295a15\",\n",
    "                \"value\": 40\n",
    "            }\n",
    "        }\n",
    "    }\n",
    "}\n",
    "</script>\n",
    "</head>\n",
    "<body>\n",
    "\n",
    "<script type=\"application/vnd.jupyter.widget-view+json\">\n",
    "{\n",
    "    \"model_id\": \"a889fb1841994aba9c461dfcde87973a\",\n",
    "    \"version_major\": 2,\n",
    "    \"version_minor\": 0\n",
    "}\n",
    "</script>\n",
    "\n",
    "</body>\n",
    "</html>\n",
    "\n",
    "\n",
    "<div class=\"Hoohle\" >\n",
    "            <div class=\"h_results\">\n",
    "                <div class=\"h_result\">\n",
    "                    <div class=\"h_title\">\n",
    "                        <a title=\"HasdajshdkajhsdkHasdajshdkajhsdkHasd jas\" href=\"hrrp://\">title tile tiele tile teil</a>\n",
    "                    </div>\n",
    "                    <div class=\"h_link\" title=\"Hasdajshdkajhsdk jas\">\n",
    "                        <a href=\"http://google.com/aksdjhakdhkasdkjahdjasd\">http://google.com/aksdjhakdhkasdkjahdjasd</a>\n",
    "                    </div>\n",
    "                    <div class=\"h_disc\">\n",
    "                    discpoapsoid saasud poaid pad poad aoid paid aifsdfsbd sdnbvmnb zuw diql ,nc ,ncj z\n",
    "                    gc 8c98yw9yq9we ah khkcjgzfgkajfh afkshd fksjhf kshdfk hsdf\n",
    "                    afjh sldfj sdfhsd fisdufh ksjdfjsdfk sjdfsjdhf kjhsf\n",
    "                    </div>\n",
    "                </div>\n",
    "                <div class=\"h_result\">\n",
    "                    <div class=\"h_title\">\n",
    "                        <a href=\"hrrp://\">title tile tiele tile teil</a>\n",
    "                    </div>\n",
    "                    <div class=\"h_link\">\n",
    "                        <a href=\"http://google.com/aksdjhakdhkasdkjahdjasd\">http://google.com/aksdjhakdhkasdkjahdjasd</a>\n",
    "                    </div>\n",
    "                    <div class=\"h_disc\">\n",
    "                    discpoapsoid saasud poaid pad poad aoid paid aifsdfsbd sdnbvmnb zuw diql ,nc ,ncj z\n",
    "                    gc 8c98yw9yq9we ah khkcjgzfgkajfh afkshd fksjhf kshdfk hsdf\n",
    "                    afjh sldfj sdfhsd fisdufh ksjdfjsdfk sjdfsjdhf kjhsf\n",
    "                    </div>\n",
    "                </div>\n",
    "                <div class=\"h_result\">\n",
    "                    <div class=\"h_title\">\n",
    "                        <a href=\"hrrp://\">title tile tiele tile teil</a>\n",
    "                    </div>\n",
    "                    <div class=\"h_link\">\n",
    "                        <a href=\"http://google.com/aksdjhakdhkasdkjahdjasd\">http://google.com/aksdjhakdhkasdkjahdjasd</a>\n",
    "                    </div>\n",
    "                    <div class=\"h_disc\">\n",
    "                    discpoapsoid saasud poaid pad poad aoid paid aifsdfsbd sdnbvmnb zuw diql ,nc ,ncj z\n",
    "                    gc 8c98yw9yq9we ah khkcjgzfgkajfh afkshd fksjhf kshdfk hsdf\n",
    "                    afjh sldfj sdfhsd fisdufh ksjdfjsdfk sjdfsjdhf kjhsf\n",
    "                    </div>\n",
    "                </div>\n",
    "                <div class=\"h_result\">\n",
    "                    <div class=\"h_title\">\n",
    "                        <a href=\"hrrp://\">title tile tiele tile teil</a>\n",
    "                    </div>\n",
    "                    <div class=\"h_link\">\n",
    "                        <a href=\"http://google.com/aksdjhakdhkasdkjahdjasd\">http://google.com/aksdjhakdhkasdkjahdjasd</a>\n",
    "                    </div>\n",
    "                    <div class=\"h_disc\">\n",
    "                    discpoapsoid saasud poaid pad poad aoid paid aifsdfsbd sdnbvmnb zuw diql ,nc ,ncj z\n",
    "                    gc 8c98yw9yq9we ah khkcjgzfgkajfh afkshd fksjhf kshdfk hsdf\n",
    "                    afjh sldfj sdfhsd fisdufh ksjdfjsdfk sjdfsjdhf kjhsf\n",
    "                    </div>\n",
    "                </div>\n",
    "            </div>\n",
    "            <div class=\"h_nav\">\n",
    "            <a href=\"http://\">1</a>\n",
    "            <a href=\"http://\">2</a>\n",
    "            <a href=\"http://\">3</a>\n",
    "            <a href=\"http://\">4</a>\n",
    "            <a href=\"http://\">5</a>\n",
    "            <a href=\"http://\">6</a>\n",
    "            <a href=\"http://\">Next</a>\n",
    "            </div>\n",
    "        '''\n",
    "display(HTML(hhtm))"
   ]
  },
  {
   "cell_type": "code",
   "execution_count": 25,
   "metadata": {},
   "outputs": [],
   "source": [
    "import heapq\n",
    "l = [13,0,5,5,5,5,0,0,0,1,13,11,1,2,4]\n",
    "heapq.heapify(l)\n"
   ]
  },
  {
   "cell_type": "code",
   "execution_count": 23,
   "metadata": {},
   "outputs": [
    {
     "data": {
      "text/plain": [
       "[0, 13, 5]"
      ]
     },
     "execution_count": 23,
     "metadata": {},
     "output_type": "execute_result"
    }
   ],
   "source": [
    "l"
   ]
  },
  {
   "cell_type": "code",
   "execution_count": 11,
   "metadata": {},
   "outputs": [
    {
     "data": {
      "text/plain": [
       "[2, 10]"
      ]
     },
     "execution_count": 11,
     "metadata": {},
     "output_type": "execute_result"
    }
   ],
   "source": [
    "h = []\n",
    "heapq.heappush(h,2)\n",
    "heapq.heappush(h,10)\n",
    "h"
   ]
  },
  {
   "cell_type": "code",
   "execution_count": 12,
   "metadata": {},
   "outputs": [],
   "source": [
    "heapq.heappush(h,1)"
   ]
  },
  {
   "cell_type": "code",
   "execution_count": 13,
   "metadata": {},
   "outputs": [
    {
     "data": {
      "text/plain": [
       "[1, 10, 2]"
      ]
     },
     "execution_count": 13,
     "metadata": {},
     "output_type": "execute_result"
    }
   ],
   "source": [
    "h\n"
   ]
  },
  {
   "cell_type": "code",
   "execution_count": null,
   "metadata": {},
   "outputs": [],
   "source": [
    "for i in l:\n",
    "    print(l.count(i))"
   ]
  },
  {
   "cell_type": "code",
   "execution_count": 34,
   "metadata": {},
   "outputs": [
    {
     "name": "stdout",
     "output_type": "stream",
     "text": [
      "[29.9988312, -95.2621553]\n"
     ]
    }
   ],
   "source": [
    "from geopy.geocoders import Nominatim\n",
    "geolocator = Nominatim(user_agent=\"specify_your_app_name_here\")\n",
    "location = geolocator.geocode(\"Humble TX\")\n",
    "#print(location.address)\n",
    "print([location.latitude, location.longitude])\n",
    "#print(type(location.raw))"
   ]
  },
  {
   "cell_type": "code",
   "execution_count": 39,
   "metadata": {},
   "outputs": [
    {
     "name": "stdout",
     "output_type": "stream",
     "text": [
      "Guten Morgen!\n"
     ]
    }
   ],
   "source": [
    "from translate import Translator\n",
    "translator= Translator(to_lang=\"English\")\n",
    "translation = translator.translate(\"Guten Morgen!\")\n",
    "print (translation)"
   ]
  },
  {
   "cell_type": "code",
   "execution_count": 45,
   "metadata": {},
   "outputs": [],
   "source": [
    "from classes.myclass import class1"
   ]
  },
  {
   "cell_type": "code",
   "execution_count": 46,
   "metadata": {},
   "outputs": [
    {
     "name": "stdout",
     "output_type": "stream",
     "text": [
      "initiated!\n"
     ]
    }
   ],
   "source": [
    "cc = class1()"
   ]
  },
  {
   "cell_type": "code",
   "execution_count": null,
   "metadata": {},
   "outputs": [],
   "source": []
  },
  {
   "cell_type": "code",
   "execution_count": null,
   "metadata": {},
   "outputs": [],
   "source": []
  },
  {
   "cell_type": "code",
   "execution_count": null,
   "metadata": {},
   "outputs": [],
   "source": []
  },
  {
   "cell_type": "code",
   "execution_count": null,
   "metadata": {},
   "outputs": [],
   "source": []
  },
  {
   "cell_type": "code",
   "execution_count": null,
   "metadata": {},
   "outputs": [],
   "source": [
    "import myclass as mc"
   ]
  },
  {
   "cell_type": "code",
   "execution_count": null,
   "metadata": {},
   "outputs": [],
   "source": [
    "mc.Myclass"
   ]
  },
  {
   "cell_type": "code",
   "execution_count": 1,
   "metadata": {},
   "outputs": [
    {
     "data": {
      "application/vnd.jupyter.widget-view+json": {
       "model_id": "a889fb1841994aba9c461dfcde87973a",
       "version_major": 2,
       "version_minor": 0
      },
      "text/plain": [
       "IntSlider(value=0)"
      ]
     },
     "metadata": {},
     "output_type": "display_data"
    }
   ],
   "source": [
    "import ipywidgets as widgets\n",
    "from ipywidgets.embed import embed_minimal_html\n",
    "\n",
    "from IPython.display import display\n",
    "w = widgets.IntSlider()\n",
    "display(w)\n"
   ]
  },
  {
   "cell_type": "code",
   "execution_count": null,
   "metadata": {},
   "outputs": [],
   "source": [
    "from ipywidgets import IntSlider\n",
    "from ipywidgets.embed import embed_minimal_html\n",
    "\n",
    "slider = IntSlider(value=40)\n",
    "embed_minimal_html('export.html', views=[slider], title='Widgets export')"
   ]
  },
  {
   "cell_type": "code",
   "execution_count": 16,
   "metadata": {},
   "outputs": [
    {
     "data": {
      "application/vnd.jupyter.widget-view+json": {
       "model_id": "fbc4a27c332b4a1baf94327b58b347d3",
       "version_major": 2,
       "version_minor": 0
      },
      "text/plain": [
       "Output(layout=Layout(border='1px solid black'))"
      ]
     },
     "metadata": {},
     "output_type": "display_data"
    }
   ],
   "source": [
    "out = widgets.Output(layout={'border': '1px solid black'})\n",
    "out"
   ]
  },
  {
   "cell_type": "code",
   "execution_count": 17,
   "metadata": {},
   "outputs": [],
   "source": [
    "with out:\n",
    "    for i in range(10):\n",
    "        print(i, 'Hello world!')"
   ]
  },
  {
   "cell_type": "code",
   "execution_count": 18,
   "metadata": {},
   "outputs": [],
   "source": [
    "from IPython.display import YouTubeVideo\n",
    "with out:\n",
    "    display(YouTubeVideo('eWzY2nGfkXk'))"
   ]
  },
  {
   "cell_type": "code",
   "execution_count": 19,
   "metadata": {},
   "outputs": [],
   "source": [
    "with out:\n",
    "    display(widgets.IntSlider())"
   ]
  },
  {
   "cell_type": "code",
   "execution_count": 20,
   "metadata": {},
   "outputs": [
    {
     "data": {
      "application/vnd.jupyter.widget-view+json": {
       "model_id": "49b6402ae5f0441eadb4e888c8430121",
       "version_major": 2,
       "version_minor": 0
      },
      "text/plain": [
       "Output(layout=Layout(border='1px solid black'), outputs=({'output_type': 'stream', 'name': 'stdout', 'text': '…"
      ]
     },
     "metadata": {},
     "output_type": "display_data"
    }
   ],
   "source": [
    "out = widgets.Output(layout={'border': '1px solid black'})\n",
    "out.append_stdout('Output appended with append_stdout')\n",
    "out.append_display_data(YouTubeVideo('eWzY2nGfkXk'))\n",
    "out"
   ]
  },
  {
   "cell_type": "code",
   "execution_count": 7,
   "metadata": {},
   "outputs": [
    {
     "data": {
      "application/vnd.jupyter.widget-view+json": {
       "model_id": "0e717ee87f454c95b5b2afc3291bf025",
       "version_major": 2,
       "version_minor": 0
      },
      "text/plain": [
       "interactive(children=(Checkbox(value=True, description='x'), Output()), _dom_classes=('widget-interact',))"
      ]
     },
     "metadata": {},
     "output_type": "display_data"
    }
   ],
   "source": [
    "from ipywidgets import interact\n",
    "\n",
    "interact(lambda x:x, x=True);"
   ]
  },
  {
   "cell_type": "code",
   "execution_count": null,
   "metadata": {},
   "outputs": [],
   "source": []
  },
  {
   "cell_type": "code",
   "execution_count": null,
   "metadata": {},
   "outputs": [],
   "source": []
  }
 ],
 "metadata": {
  "kernelspec": {
   "display_name": "Python 3",
   "language": "python",
   "name": "python3"
  },
  "language_info": {
   "codemirror_mode": {
    "name": "ipython",
    "version": 3
   },
   "file_extension": ".py",
   "mimetype": "text/x-python",
   "name": "python",
   "nbconvert_exporter": "python",
   "pygments_lexer": "ipython3",
   "version": "3.7.0"
  },
  "widgets": {
   "application/vnd.jupyter.widget-state+json": {
    "state": {
     "07d05fe71d9d475b9a63e33302496dc7": {
      "model_module": "@jupyter-widgets/base",
      "model_module_version": "1.1.0",
      "model_name": "LayoutModel",
      "state": {}
     },
     "0e717ee87f454c95b5b2afc3291bf025": {
      "model_module": "@jupyter-widgets/controls",
      "model_module_version": "1.4.0",
      "model_name": "VBoxModel",
      "state": {
       "_dom_classes": [
        "widget-interact"
       ],
       "children": [
        "IPY_MODEL_532db2f4c11246b990c5e0d60e913568",
        "IPY_MODEL_ef538b0b59b14e52be2afb12c52993d2"
       ],
       "layout": "IPY_MODEL_3616fdd8f0d54a58b66b1efa83fabbf3"
      }
     },
     "0edd6ca540ab46749a2c60e12aa12d71": {
      "model_module": "@jupyter-widgets/base",
      "model_module_version": "1.1.0",
      "model_name": "LayoutModel",
      "state": {}
     },
     "2fb3942070404582ae0c02ff8977f684": {
      "model_module": "@jupyter-widgets/controls",
      "model_module_version": "1.4.0",
      "model_name": "DescriptionStyleModel",
      "state": {
       "description_width": ""
      }
     },
     "3616fdd8f0d54a58b66b1efa83fabbf3": {
      "model_module": "@jupyter-widgets/base",
      "model_module_version": "1.1.0",
      "model_name": "LayoutModel",
      "state": {}
     },
     "532db2f4c11246b990c5e0d60e913568": {
      "model_module": "@jupyter-widgets/controls",
      "model_module_version": "1.4.0",
      "model_name": "CheckboxModel",
      "state": {
       "description": "x",
       "disabled": false,
       "layout": "IPY_MODEL_0edd6ca540ab46749a2c60e12aa12d71",
       "style": "IPY_MODEL_2fb3942070404582ae0c02ff8977f684",
       "value": true
      }
     },
     "733dfdd1146042418a78a5e936295a15": {
      "model_module": "@jupyter-widgets/controls",
      "model_module_version": "1.4.0",
      "model_name": "SliderStyleModel",
      "state": {
       "description_width": ""
      }
     },
     "8dffc6ffb3f5462a908be108d2a00dbb": {
      "model_module": "@jupyter-widgets/controls",
      "model_module_version": "1.4.0",
      "model_name": "SliderStyleModel",
      "state": {
       "description_width": ""
      }
     },
     "935cfefad7d14e5f88dfccade527e23b": {
      "model_module": "@jupyter-widgets/base",
      "model_module_version": "1.1.0",
      "model_name": "LayoutModel",
      "state": {}
     },
     "94e506c55a764bb387471d82d546f78f": {
      "model_module": "@jupyter-widgets/controls",
      "model_module_version": "1.4.0",
      "model_name": "IntSliderModel",
      "state": {
       "layout": "IPY_MODEL_07d05fe71d9d475b9a63e33302496dc7",
       "style": "IPY_MODEL_733dfdd1146042418a78a5e936295a15",
       "value": 40
      }
     },
     "a889fb1841994aba9c461dfcde87973a": {
      "model_module": "@jupyter-widgets/controls",
      "model_module_version": "1.4.0",
      "model_name": "IntSliderModel",
      "state": {
       "layout": "IPY_MODEL_b31064b297684ed0824bf73da454a115",
       "style": "IPY_MODEL_8dffc6ffb3f5462a908be108d2a00dbb",
       "value": 37
      }
     },
     "b31064b297684ed0824bf73da454a115": {
      "model_module": "@jupyter-widgets/base",
      "model_module_version": "1.1.0",
      "model_name": "LayoutModel",
      "state": {}
     },
     "ef538b0b59b14e52be2afb12c52993d2": {
      "model_module": "@jupyter-widgets/output",
      "model_module_version": "1.0.0",
      "model_name": "OutputModel",
      "state": {
       "layout": "IPY_MODEL_935cfefad7d14e5f88dfccade527e23b",
       "outputs": [
        {
         "data": {
          "text/plain": "True"
         },
         "metadata": {},
         "output_type": "display_data"
        }
       ]
      }
     }
    },
    "version_major": 2,
    "version_minor": 0
   }
  }
 },
 "nbformat": 4,
 "nbformat_minor": 2
}
