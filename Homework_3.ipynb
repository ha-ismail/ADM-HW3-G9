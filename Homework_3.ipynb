{
 "cells": [
  {
   "cell_type": "markdown",
   "metadata": {},
   "source": [
    "# Homework 3 in ADM - Find the perfect place to stay in Texas!\n",
    "## By Guliano Soced Tocilj, Hassan Ismail and Hannes Engelhardt\n",
    "\n",
    "### Our approach\n",
    "\n",
    "We started solving the homework using functions to test our approaches to the different tasks. When we solved all of them to our satisfaction we converted our code to classes. You can find the classes we created with the comments we provided in the file *classes/hoohle.py* and their explanations in *classes.ipynb* file. This will increase the readabilty of this notebook.\n",
    "\n",
    "For each of the search engines we had to create during our homework we created a class. We called them *HoohleSimple*, *HoohleTFIDF* and *HoohleNOSTRO*. We will refer to them in the following while explaning our steps. To provide these classes with the needed information we created the classes *AirbnbData* and *Property*. In the first one we handled the preparation of the data and the latter will provide the information about the document and term ids, whenever one of our hoohles need this information. \n",
    "\n",
    "Below you can find the libraries we used during the completion of our homework."
   ]
  },
  {
   "cell_type": "markdown",
   "metadata": {},
   "source": []
  },
  {
   "cell_type": "code",
   "execution_count": null,
   "metadata": {},
   "outputs": [],
   "source": [
    "import pandas as pd\n",
    "import nltk\n",
    "import csv\n",
    "\n",
    "from nltk.corpus import stopwords\n",
    "stop_words = set(stopwords.words(\"english\"))\n",
    "from nltk.tokenize import RegexpTokenizer\n",
    "from nltk.stem.snowball import SnowballStemmer\n",
    "from translate import Translator\n",
    "from langdetect import detect\n",
    "\n",
    "stemmer = SnowballStemmer('english')\n",
    "\n",
    "from pathlib import Path\n",
    "import math\n",
    "import numpy as np\n",
    "import re\n",
    "from scipy import spatial\n",
    "import heapq as hq\n",
    "import geopy\n",
    "import geopy.distance\n",
    "import folium\n",
    "\n",
    "from IPython.display import HTML, display\n",
    "import importlib \n",
    "from importlib import *\n",
    "import classes"
   ]
  },
  {
   "cell_type": "markdown",
   "metadata": {},
   "source": [
    "#### Importing our classes"
   ]
  },
  {
   "cell_type": "code",
   "execution_count": 2,
   "metadata": {},
   "outputs": [],
   "source": [
    "# Execute only once on a machine\n",
    "#nltk.download()"
   ]
  },
  {
   "cell_type": "code",
   "execution_count": 110,
   "metadata": {},
   "outputs": [],
   "source": [
    "#importlib.reload(classes.hoohle)\n",
    "from classes.hoohle import *"
   ]
  },
  {
   "cell_type": "code",
   "execution_count": 111,
   "metadata": {},
   "outputs": [],
   "source": [
    "#importlib.reload(classes.hoohle)\n",
    "from classes.hoohle import AirbnbData"
   ]
  },
  {
   "cell_type": "code",
   "execution_count": 112,
   "metadata": {},
   "outputs": [],
   "source": [
    "#importlib.reload(classes.hoohle)\n",
    "from classes.hoohle import HoohleSimple"
   ]
  },
  {
   "cell_type": "code",
   "execution_count": 113,
   "metadata": {},
   "outputs": [],
   "source": [
    "#importlib.reload(classes.hoohle)\n",
    "from classes.hoohle import HoohleTFIDF"
   ]
  },
  {
   "cell_type": "code",
   "execution_count": 125,
   "metadata": {},
   "outputs": [],
   "source": [
    "#importlib.reload(classes.hoohle)\n",
    "from classes.hoohle import HoohleNOSTRO"
   ]
  },
  {
   "cell_type": "code",
   "execution_count": 114,
   "metadata": {},
   "outputs": [],
   "source": [
    "#importlib.reload(classes.hoohle)\n",
    "from classes.hoohle import Property"
   ]
  },
  {
   "cell_type": "markdown",
   "metadata": {},
   "source": [
    "### Step 1 and 2\n",
    "Our first step was to download and clean the dataframe. We removed the dupliclates using the function *removeDuplicates* in the class *AirbnbData*. We realized that there are some entries which aren't in English. In order not to lose many of the entries and still be able to use them we translated the title and description. We then used the function *translate* you can find in the same class (Airbnb).\n",
    "\n",
    "Our next step was to create the tsv-files. For that we saved each row of the dataframe into a seperate file, named as asked in the explanantion of the tasks for the homework."
   ]
  },
  {
   "cell_type": "markdown",
   "metadata": {},
   "source": [
    "#### Creating Data Object\n",
    "By initiating an instance from the AirbnbData class, this will autmatically read the data from the passed csv file and store them in a dataframe called 'data'."
   ]
  },
  {
   "cell_type": "code",
   "execution_count": 115,
   "metadata": {},
   "outputs": [],
   "source": [
    "data = AirbnbData('Airbnb_Texas_Rentals.csv', 'Airbnb Texas',True)"
   ]
  },
  {
   "cell_type": "markdown",
   "metadata": {},
   "source": [
    "#### Cleaning Data\n",
    "By calling the clean function, which will remove entries with null values, convert words into lower case, remove stop words, and stem words"
   ]
  },
  {
   "cell_type": "code",
   "execution_count": 19,
   "metadata": {},
   "outputs": [
    {
     "data": {
      "text/html": [
       "<style>.container {\n",
       "    width:100%;\n",
       "    border:1px solid #eee;\n",
       "    margin: 3px;\n",
       "    padding:3px;\n",
       "    font-family: Tahoma;\n",
       "    background-color: #91ced4;\n",
       "    text-align: left;\n",
       "    float: left;\n",
       "    position: relative;\n",
       "    left: 0;\n",
       "    \n",
       "}\n",
       "table, tr, td, th{\n",
       "    text-align:left;\n",
       "}\n",
       "\n",
       ".container .div_result{\n",
       "    width:90%;\n",
       "    float: left;\n",
       "    position: relative;\n",
       "    left: 5%;\n",
       "    top: 10px;\n",
       "    \n",
       "    \n",
       "}\n",
       "\n",
       ".container table td, table th {\n",
       "  color: #2b686e;\n",
       "  padding: 10px;\n",
       "}\n",
       ".container table td {\n",
       "  text-align: center;\n",
       "  vertical-align: middle;\n",
       "}\n",
       ".container table td:last-child {\n",
       "  font-size: 0.95em;\n",
       "  line-height: 1.4;\n",
       "  text-align: left;\n",
       "}\n",
       ".container table th {\n",
       "  background-color: #daeff1;\n",
       "  font-weight: 300;\n",
       "}\n",
       ".container table tr:nth-child(2n) {\n",
       "  background-color: white;\n",
       "}\n",
       ".container table tr:nth-child(2n+1) {\n",
       "  background-color: #edf7f8;\n",
       "}\n",
       ".container table tr:hover {\n",
       "  background-color: #efe1ac;\n",
       "  border: 1px solid #f4ce42;\n",
       "\n",
       "}\n",
       ".Hoohle{\n",
       "    font-family:arial,sans-serif;\n",
       "    width:100%;\n",
       "    border:1px solid #eee;\n",
       "    margin: 3px;\n",
       "    padding:3px;\n",
       "    background-color: #fff;\n",
       "    text-align: left;\n",
       "    float: left;\n",
       "    position: relative;\n",
       "    left: 0;\n",
       "    background-image:url(https://github.com/ha-ismail/ADM-HW3-G9/blob/master/style/hoohlelogo.png?raw=true);\n",
       "    background-position: left top; \n",
       "    background-repeat: no-repeat; \n",
       "    \n",
       "}\n",
       ".Hoohle div.h_results{\n",
       "    padding-top:70px;\n",
       "    margin:3px;\n",
       "\n",
       "    \n",
       "}\n",
       ".Hoohle div.h_result{\n",
       "    padding-left:3px;\n",
       "    margin-bottom:10px;\n",
       "    width: 90%;\n",
       "}\n",
       ".Hoohle div.h_result:hover{\n",
       "    /*background-color: #eee;*/\n",
       "    border-right:2px solid #acc6ef;\n",
       "    \n",
       "}\n",
       "\n",
       ".Hoohle div.h_score{\n",
       "    /*padding-left:3px;\n",
       "    margin-bottom:10px;\n",
       "    width: 600px;*/\n",
       "    color: #f45c42;\n",
       "}\n",
       "\n",
       ".Hoohle div.h_rank{\n",
       "    /*background-image: url(https://github.com/ha-ismail/ADM-HW3-G9/blob/master/style/rank.png?raw=true);*/\n",
       "    background-color: #f2ca04;\n",
       "    background-position: center; \n",
       "    background-repeat: no-repeat; \n",
       "\n",
       "    float: left;\n",
       "    height: 20px;\n",
       "    width: 20px;\n",
       "    font-weight: bold;\n",
       "    color: #fff;\n",
       "    text-align: center;\n",
       "    margin:3px;\n",
       "    /*padding-top:5px;*/\n",
       "}\n",
       "\n",
       ".Hoohle div{\n",
       "    font-family:arial,sans-serif;\n",
       "}\n",
       ".Hoohle div.h_title a:link, a:visited{\n",
       "    color: rgb(26, 13, 171);\n",
       "    display: inline-block;\n",
       "    font-size: 18px;\n",
       "    font-family:arial,sans-serif;\n",
       "}\n",
       ".Hoohle div.h_link a:link, a:visited{\n",
       "    color: #006621;\n",
       "    display: inline-block;\n",
       "    font-size: 14px;\n",
       "    font-family:arial,sans-serif;\n",
       "    padding-top:1px;\n",
       "}\n",
       ".Hoohle div.h_link a:hover{\n",
       "    text-decoration: none;\n",
       "}\n",
       ".Hoohle h_disc{\n",
       "    font-size: small;\n",
       "    \n",
       "}\n",
       ".h_disc > span:nth-child(odd)[style],\n",
       ".h_disc > span:nth-child(even)[style]{\n",
       "    font-style: normal; !important;\n",
       "}\n",
       "\n",
       "/* unvisited link */\n",
       ".container a:link {\n",
       "    color: red;\n",
       "}\n",
       "\n",
       "/* visited link */\n",
       ".container a:visited {\n",
       "    color: green;\n",
       "}\n",
       "\n",
       "/* mouse over link */\n",
       ".container a:hover {\n",
       "    color: hotpink;\n",
       "    text-decoration: underline;\n",
       "}\n",
       "\n",
       "/* selected link */\n",
       ".container a:active {\n",
       "    color: blue;\n",
       "    text-decoration: underline;\n",
       "}\n",
       "\n",
       "</style><div class=\"h_msg\">Airbnb Texas data has been cleaned from null values sir!</div>"
      ],
      "text/plain": [
       "<IPython.core.display.HTML object>"
      ]
     },
     "metadata": {},
     "output_type": "display_data"
    }
   ],
   "source": [
    "data.clean()"
   ]
  },
  {
   "cell_type": "markdown",
   "metadata": {},
   "source": [
    "#### Translation\n",
    "This function checks the language of the title and description text and if it's not English it will translate them into the desired language (English in our case)"
   ]
  },
  {
   "cell_type": "code",
   "execution_count": null,
   "metadata": {},
   "outputs": [],
   "source": [
    "data.translate('English')"
   ]
  },
  {
   "cell_type": "markdown",
   "metadata": {},
   "source": [
    "#### Creating TSV Files\n",
    "The below function create a TSV file for each entry in our data under the 'data' folder."
   ]
  },
  {
   "cell_type": "code",
   "execution_count": 21,
   "metadata": {},
   "outputs": [
    {
     "data": {
      "text/html": [
       "<style>.container {\n",
       "    width:100%;\n",
       "    border:1px solid #eee;\n",
       "    margin: 3px;\n",
       "    padding:3px;\n",
       "    font-family: Tahoma;\n",
       "    background-color: #91ced4;\n",
       "    text-align: left;\n",
       "    float: left;\n",
       "    position: relative;\n",
       "    left: 0;\n",
       "    \n",
       "}\n",
       "table, tr, td, th{\n",
       "    text-align:left;\n",
       "}\n",
       "\n",
       ".container .div_result{\n",
       "    width:90%;\n",
       "    float: left;\n",
       "    position: relative;\n",
       "    left: 5%;\n",
       "    top: 10px;\n",
       "    \n",
       "    \n",
       "}\n",
       "\n",
       ".container table td, table th {\n",
       "  color: #2b686e;\n",
       "  padding: 10px;\n",
       "}\n",
       ".container table td {\n",
       "  text-align: center;\n",
       "  vertical-align: middle;\n",
       "}\n",
       ".container table td:last-child {\n",
       "  font-size: 0.95em;\n",
       "  line-height: 1.4;\n",
       "  text-align: left;\n",
       "}\n",
       ".container table th {\n",
       "  background-color: #daeff1;\n",
       "  font-weight: 300;\n",
       "}\n",
       ".container table tr:nth-child(2n) {\n",
       "  background-color: white;\n",
       "}\n",
       ".container table tr:nth-child(2n+1) {\n",
       "  background-color: #edf7f8;\n",
       "}\n",
       ".container table tr:hover {\n",
       "  background-color: #efe1ac;\n",
       "  border: 1px solid #f4ce42;\n",
       "\n",
       "}\n",
       ".Hoohle{\n",
       "    font-family:arial,sans-serif;\n",
       "    width:100%;\n",
       "    border:1px solid #eee;\n",
       "    margin: 3px;\n",
       "    padding:3px;\n",
       "    background-color: #fff;\n",
       "    text-align: left;\n",
       "    float: left;\n",
       "    position: relative;\n",
       "    left: 0;\n",
       "    background-image:url(https://github.com/ha-ismail/ADM-HW3-G9/blob/master/style/hoohlelogo.png?raw=true);\n",
       "    background-position: left top; \n",
       "    background-repeat: no-repeat; \n",
       "    \n",
       "}\n",
       ".Hoohle div.h_results{\n",
       "    padding-top:70px;\n",
       "    margin:3px;\n",
       "\n",
       "    \n",
       "}\n",
       ".Hoohle div.h_result{\n",
       "    padding-left:3px;\n",
       "    margin-bottom:10px;\n",
       "    width: 90%;\n",
       "}\n",
       ".Hoohle div.h_result:hover{\n",
       "    /*background-color: #eee;*/\n",
       "    border-right:2px solid #acc6ef;\n",
       "    \n",
       "}\n",
       "\n",
       ".Hoohle div.h_score{\n",
       "    /*padding-left:3px;\n",
       "    margin-bottom:10px;\n",
       "    width: 600px;*/\n",
       "    color: #f45c42;\n",
       "}\n",
       "\n",
       ".Hoohle div.h_rank{\n",
       "    /*background-image: url(https://github.com/ha-ismail/ADM-HW3-G9/blob/master/style/rank.png?raw=true);*/\n",
       "    background-color: #f2ca04;\n",
       "    background-position: center; \n",
       "    background-repeat: no-repeat; \n",
       "\n",
       "    float: left;\n",
       "    height: 20px;\n",
       "    width: 20px;\n",
       "    font-weight: bold;\n",
       "    color: #fff;\n",
       "    text-align: center;\n",
       "    margin:3px;\n",
       "    /*padding-top:5px;*/\n",
       "}\n",
       "\n",
       ".Hoohle div{\n",
       "    font-family:arial,sans-serif;\n",
       "}\n",
       ".Hoohle div.h_title a:link, a:visited{\n",
       "    color: rgb(26, 13, 171);\n",
       "    display: inline-block;\n",
       "    font-size: 18px;\n",
       "    font-family:arial,sans-serif;\n",
       "}\n",
       ".Hoohle div.h_link a:link, a:visited{\n",
       "    color: #006621;\n",
       "    display: inline-block;\n",
       "    font-size: 14px;\n",
       "    font-family:arial,sans-serif;\n",
       "    padding-top:1px;\n",
       "}\n",
       ".Hoohle div.h_link a:hover{\n",
       "    text-decoration: none;\n",
       "}\n",
       ".Hoohle h_disc{\n",
       "    font-size: small;\n",
       "    \n",
       "}\n",
       ".h_disc > span:nth-child(odd)[style],\n",
       ".h_disc > span:nth-child(even)[style]{\n",
       "    font-style: normal; !important;\n",
       "}\n",
       "\n",
       "/* unvisited link */\n",
       ".container a:link {\n",
       "    color: red;\n",
       "}\n",
       "\n",
       "/* visited link */\n",
       ".container a:visited {\n",
       "    color: green;\n",
       "}\n",
       "\n",
       "/* mouse over link */\n",
       ".container a:hover {\n",
       "    color: hotpink;\n",
       "    text-decoration: underline;\n",
       "}\n",
       "\n",
       "/* selected link */\n",
       ".container a:active {\n",
       "    color: blue;\n",
       "    text-decoration: underline;\n",
       "}\n",
       "\n",
       "</style><div class=\"h_msg\">TSV files for Airbnb Texas have been created under data folder, sir!</div>"
      ],
      "text/plain": [
       "<IPython.core.display.HTML object>"
      ]
     },
     "metadata": {},
     "output_type": "display_data"
    }
   ],
   "source": [
    "data.createTSVs()"
   ]
  },
  {
   "cell_type": "markdown",
   "metadata": {},
   "source": [
    "## Search Engine 1 (Step 3.1)\n",
    "By creating an object from the *HoohleSimple* class, and passing the data variable.\n",
    "\n",
    "the initiation process includes creating a vocabulary file (vocabulary.csv) and and index dictionary which will remain in memory.\n",
    "And below as you will see, we provided an option to save the index to file on disk so we can read it again and assign to our search engine object.\n",
    "\n",
    "To create the vocabulary file we needed for the creation of the inverted index we used the function *buildVocabulary* in the class *AirbnbData*. This function called another function, *getUniqueTerms* from the class *Property* which itself called the function *cleanData* that converts all the words to lowercase, removes punctation and stopwords, stemms the words and removes numbers and strings starting with numbers. \n",
    "\n",
    "The next step (3.2.1) was to execute the query. This will be done by the class *HoohleSimple*. The user will be asked to input a query which will be passed to the function *printResults* in this class. This function will call the function get *getDocsByQuery*. This function will first clean the search query by applying the function (*cleanData*) we described earlier (creation of the vocabulary file). After the query has been cleaned it will be passed on to the function *getDocsByTerm*. This will access the function *getID* which outputs the id of the term, assigned in our vocabulary file. The id of the vocabulary will then be used to get all the document ids assigned to the id of the vocabulary. In this step we access our index which will be created in the initiation process of *HoohleSimple*. This index is a dictionary where the key is the id of the term we got in our vocabulary file and the values are the ids of the documents containing this term. The ids of the documents we get from our index will then be appended to a list containing all the document ids we found for the terms of the search query. With this list of document ids, *hoohleSimple* will than print the title, link and description of the apartements that match the search query. See and test below.\n"
   ]
  },
  {
   "cell_type": "code",
   "execution_count": 122,
   "metadata": {},
   "outputs": [],
   "source": [
    "hoohle = HoohleSimple(data, True)\n",
    "#hoohle = HoohleSimple(data)"
   ]
  },
  {
   "cell_type": "markdown",
   "metadata": {},
   "source": [
    "#### Save Dataframe\n",
    "As we mentioned before, we provided the option to save our dataframe after cleansing to disk, for further import."
   ]
  },
  {
   "cell_type": "code",
   "execution_count": 23,
   "metadata": {},
   "outputs": [],
   "source": [
    "saveData(data.data, 'dataframe/airbnb')"
   ]
  },
  {
   "cell_type": "code",
   "execution_count": null,
   "metadata": {},
   "outputs": [],
   "source": [
    "#### Save Index To Disk"
   ]
  },
  {
   "cell_type": "code",
   "execution_count": 24,
   "metadata": {},
   "outputs": [],
   "source": [
    "hoohle.saveIndex('dataframe/indexSimple.index')"
   ]
  },
  {
   "cell_type": "code",
   "execution_count": 116,
   "metadata": {},
   "outputs": [],
   "source": [
    "#data.readData('dataframe/airbnb.feather')\n",
    "#hoohle.readIndex('dataframe/indexSimple.index')"
   ]
  },
  {
   "cell_type": "markdown",
   "metadata": {},
   "source": [
    "### Executing the search\n",
    "By passing user input text to *printResults* funtion."
   ]
  },
  {
   "cell_type": "code",
   "execution_count": 61,
   "metadata": {},
   "outputs": [
    {
     "name": "stdin",
     "output_type": "stream",
     "text": [
      "Enter a search query private room with queen bed and garden\n"
     ]
    },
    {
     "data": {
      "text/html": [
       "<style>.container {\n",
       "    width:100%;\n",
       "    border:1px solid #eee;\n",
       "    margin: 3px;\n",
       "    padding:3px;\n",
       "    font-family: Tahoma;\n",
       "    background-color: #91ced4;\n",
       "    text-align: left;\n",
       "    float: left;\n",
       "    position: relative;\n",
       "    left: 0;\n",
       "    \n",
       "}\n",
       "table, tr, td, th{\n",
       "    text-align:left;\n",
       "}\n",
       "\n",
       ".container .div_result{\n",
       "    width:90%;\n",
       "    float: left;\n",
       "    position: relative;\n",
       "    left: 5%;\n",
       "    top: 10px;\n",
       "    \n",
       "    \n",
       "}\n",
       "\n",
       ".container table td, table th {\n",
       "  color: #2b686e;\n",
       "  padding: 10px;\n",
       "}\n",
       ".container table td {\n",
       "  text-align: center;\n",
       "  vertical-align: middle;\n",
       "}\n",
       ".container table td:last-child {\n",
       "  font-size: 0.95em;\n",
       "  line-height: 1.4;\n",
       "  text-align: left;\n",
       "}\n",
       ".container table th {\n",
       "  background-color: #daeff1;\n",
       "  font-weight: 300;\n",
       "}\n",
       ".container table tr:nth-child(2n) {\n",
       "  background-color: white;\n",
       "}\n",
       ".container table tr:nth-child(2n+1) {\n",
       "  background-color: #edf7f8;\n",
       "}\n",
       ".container table tr:hover {\n",
       "  background-color: #efe1ac;\n",
       "  border: 1px solid #f4ce42;\n",
       "\n",
       "}\n",
       ".Hoohle{\n",
       "    font-family:arial,sans-serif;\n",
       "    width:100%;\n",
       "    border:1px solid #eee;\n",
       "    margin: 3px;\n",
       "    padding:3px;\n",
       "    background-color: #fff;\n",
       "    text-align: left;\n",
       "    float: left;\n",
       "    position: relative;\n",
       "    left: 0;\n",
       "    background-image:url(https://github.com/ha-ismail/ADM-HW3-G9/blob/master/style/hoohlelogo.png?raw=true);\n",
       "    background-position: left top; \n",
       "    background-repeat: no-repeat; \n",
       "    \n",
       "}\n",
       ".Hoohle div.h_results{\n",
       "    padding-top:70px;\n",
       "    margin:3px;\n",
       "\n",
       "    \n",
       "}\n",
       ".Hoohle div.h_result{\n",
       "    padding-left:3px;\n",
       "    margin-bottom:10px;\n",
       "    width: 90%;\n",
       "}\n",
       ".Hoohle div.h_result:hover{\n",
       "    /*background-color: #eee;*/\n",
       "    border-right:2px solid #acc6ef;\n",
       "    \n",
       "}\n",
       "\n",
       ".Hoohle div.h_score{\n",
       "    /*padding-left:3px;\n",
       "    margin-bottom:10px;\n",
       "    width: 600px;*/\n",
       "    color: #f45c42;\n",
       "}\n",
       "\n",
       ".Hoohle div.h_rank{\n",
       "    /*background-image: url(https://github.com/ha-ismail/ADM-HW3-G9/blob/master/style/rank.png?raw=true);*/\n",
       "    background-color: #f2ca04;\n",
       "    background-position: center; \n",
       "    background-repeat: no-repeat; \n",
       "\n",
       "    float: left;\n",
       "    height: 20px;\n",
       "    width: 20px;\n",
       "    font-weight: bold;\n",
       "    color: #fff;\n",
       "    text-align: center;\n",
       "    margin:3px;\n",
       "    /*padding-top:5px;*/\n",
       "}\n",
       "\n",
       ".Hoohle div{\n",
       "    font-family:arial,sans-serif;\n",
       "}\n",
       ".Hoohle div.h_title a:link, a:visited{\n",
       "    color: rgb(26, 13, 171);\n",
       "    display: inline-block;\n",
       "    font-size: 18px;\n",
       "    font-family:arial,sans-serif;\n",
       "}\n",
       ".Hoohle div.h_link a:link, a:visited{\n",
       "    color: #006621;\n",
       "    display: inline-block;\n",
       "    font-size: 14px;\n",
       "    font-family:arial,sans-serif;\n",
       "    padding-top:1px;\n",
       "}\n",
       ".Hoohle div.h_link a:hover{\n",
       "    text-decoration: none;\n",
       "}\n",
       ".Hoohle h_disc{\n",
       "    font-size: small;\n",
       "    \n",
       "}\n",
       ".h_disc > span:nth-child(odd)[style],\n",
       ".h_disc > span:nth-child(even)[style]{\n",
       "    font-style: normal; !important;\n",
       "}\n",
       "\n",
       "/* unvisited link */\n",
       ".container a:link {\n",
       "    color: red;\n",
       "}\n",
       "\n",
       "/* visited link */\n",
       ".container a:visited {\n",
       "    color: green;\n",
       "}\n",
       "\n",
       "/* mouse over link */\n",
       ".container a:hover {\n",
       "    color: hotpink;\n",
       "    text-decoration: underline;\n",
       "}\n",
       "\n",
       "/* selected link */\n",
       ".container a:active {\n",
       "    color: blue;\n",
       "    text-decoration: underline;\n",
       "}\n",
       "\n",
       "</style><div class=\"Hoohle\" ><div class=\"h_results\"><div class=\"h_result\"><div class=\"h_title\"><a href=\"https://www.airbnb.com/rooms/17251254?location=Balch%20Springs%2C%20TX\">Lakewood Private BD/BA/Study</a></div><div class=\"h_link\"><a href=\"https://www.airbnb.com/rooms/17251254?location=Balch%20Springs%2C%20TX\">https://www.airbnb.com/rooms/17251254?location=Balch%20Springs%2C%20TX</a></div><div class=\"h_city\">Dallas</div><div class=\"h_disc\">You will enjoy a large, clean, charming upstairs bedroom (conveniently separate from my room which is on the opposite side of the house) with attached full bathroom, spacious walk-in closet and your own private study/office in vibrant Lakewood Neighborhood walking distance from White Rock Lake and T... </div></div><div class=\"h_result\"><div class=\"h_title\"><a href=\"https://www.airbnb.com/rooms/513509?location=Canyon%20Lake%2C%20TX\">The River Song Cottage in Wimberley</a></div><div class=\"h_link\"><a href=\"https://www.airbnb.com/rooms/513509?location=Canyon%20Lake%2C%20TX\">https://www.airbnb.com/rooms/513509?location=Canyon%20Lake%2C%20TX</a></div><div class=\"h_city\">Wimberley</div><div class=\"h_disc\">Charming 1 bedroom cottage in Wimberley, Texas. Conveniently located less than one mile from the square, Blue Hole Regional Park and one of the last outdoor theaters in the nation, The Corral. Wimberley is one of the best kept secrets of the southwest. We're an easy 45 minute commute to Austin, but ... </div></div><div class=\"h_result\"><div class=\"h_title\"><a href=\"https://www.airbnb.com/rooms/17251254?location=Carrollton%2C%20TX\">Lakewood Private BD/BA/Study</a></div><div class=\"h_link\"><a href=\"https://www.airbnb.com/rooms/17251254?location=Carrollton%2C%20TX\">https://www.airbnb.com/rooms/17251254?location=Carrollton%2C%20TX</a></div><div class=\"h_city\">Dallas</div><div class=\"h_disc\">You will enjoy a large, clean, charming upstairs bedroom (conveniently separate from my room which is on the opposite side of the house) with attached full bathroom, spacious walk-in closet and your own private study/office in vibrant Lakewood Neighborhood walking distance from White Rock Lake and T... </div></div><div class=\"h_result\"><div class=\"h_title\"><a href=\"https://www.airbnb.com/rooms/14184646?location=Brazos%20River%2C%20TX\">COTTAGE GARDEN: Heights 2-bath, 2 bedroom, 2-story</a></div><div class=\"h_link\"><a href=\"https://www.airbnb.com/rooms/14184646?location=Brazos%20River%2C%20TX\">https://www.airbnb.com/rooms/14184646?location=Brazos%20River%2C%20TX</a></div><div class=\"h_city\">Houston</div><div class=\"h_disc\">COTTAGE GARDENS:  Private Rear Cottage ~ open loft concept w spiral staircase.  DOWNSTAIRS: Queen bed, bathroom w shower &amp; dressing room.  UPSTAIRSHuge bathroom, claw-foot tub. Upstairs - twin bed Plus full kitchen, living room, desk. Two separate entrances, full laundry, big sofa makes great ex... </div></div><div class=\"h_result\"><div class=\"h_title\"><a href=\"https://www.airbnb.com/rooms/4936459?location=Amarillo%2C%20TX\">Gracious home in quiet neighborhood</a></div><div class=\"h_link\"><a href=\"https://www.airbnb.com/rooms/4936459?location=Amarillo%2C%20TX\">https://www.airbnb.com/rooms/4936459?location=Amarillo%2C%20TX</a></div><div class=\"h_city\">Amarillo</div><div class=\"h_disc\">“PJ &amp; Kay go the extra mile to make you feel like you're at a boutique hotel at a quarter of the cost.” (Christin, Feb 2017) A plush queen bed, fresh ground morning coffee, off street parking, personal refrigerator, and free WiFi provide a quiet, private retreat. Spacious library/dining with TV/... </div></div><div class=\"h_result\"><div class=\"h_title\"><a href=\"https://www.airbnb.com/rooms/16277413?location=Bellaire%2C%20TX\">Upgraded Home-felt Apartment minutes from Galleria</a></div><div class=\"h_link\"><a href=\"https://www.airbnb.com/rooms/16277413?location=Bellaire%2C%20TX\">https://www.airbnb.com/rooms/16277413?location=Bellaire%2C%20TX</a></div><div class=\"h_city\">Houston</div><div class=\"h_disc\">Spacious &amp; open floor plan. Private master room(queen bed) and bath(his &amp; her sinks, garden tub). Living room can accommodate 2 guests with L shaped couch. Full Kitchen (appliances, pots, dishes, utensils, kerieg, tea pot). Washer/dryer. About 1 mile from Galleria. 15 min drive to downtown(n... </div></div><div class=\"h_result\"><div class=\"h_title\"><a href=\"https://www.airbnb.com/rooms/8305468?location=Azle%2C%20TX\">1 Bedroom in quiet neighborhood</a></div><div class=\"h_link\"><a href=\"https://www.airbnb.com/rooms/8305468?location=Azle%2C%20TX\">https://www.airbnb.com/rooms/8305468?location=Azle%2C%20TX</a></div><div class=\"h_city\">Saginaw</div><div class=\"h_disc\">Private bedroom with queen size bed and private bathroom. Cable TV in room.  Living room with cable TV, dining room, kitchen, outdoor patio with grill and sitting area, free wifi, laundry room with washer and dryer  Brad and I work Monday through Friday 8am-5pm and my daughter is in school. We typic... </div></div><div class=\"h_result\"><div class=\"h_title\"><a href=\"https://www.airbnb.com/rooms/17255843?location=Bulverde%2C%20TX\">Superb Studio Apartment with Garden View</a></div><div class=\"h_link\"><a href=\"https://www.airbnb.com/rooms/17255843?location=Bulverde%2C%20TX\">https://www.airbnb.com/rooms/17255843?location=Bulverde%2C%20TX</a></div><div class=\"h_city\">San Antonio</div><div class=\"h_disc\">Excellent design and natural beauty make this clean, comfy studio apartment special. Two private entrances and equipped for business or leisure. Bathroom has exquisite fixtures and hand-crafted cabinets, IKEA kitchenette. Queen bed and full pull-out. Pack-and-play for small guests. Sunny patio, view... </div></div><div class=\"h_result\"><div class=\"h_title\"><a href=\"https://www.airbnb.com/rooms/14184646?location=Atascocita%2C%20TX\">COTTAGE GARDEN: Heights 2-bath, 2 bedroom, 2-story</a></div><div class=\"h_link\"><a href=\"https://www.airbnb.com/rooms/14184646?location=Atascocita%2C%20TX\">https://www.airbnb.com/rooms/14184646?location=Atascocita%2C%20TX</a></div><div class=\"h_city\">Houston</div><div class=\"h_disc\">COTTAGE GARDENS:  Private Rear Cottage ~ open loft concept w spiral staircase.  DOWNSTAIRS: Queen bed, bathroom w shower &amp; dressing room.  UPSTAIRSHuge bathroom, claw-foot tub. Upstairs - twin bed Plus full kitchen, living room, desk. Two separate entrances, full laundry, big sofa makes great ex... </div></div><div class=\"h_result\"><div class=\"h_title\"><a href=\"https://www.airbnb.com/rooms/8305468?location=Benbrook%2C%20TX\">1 Bedroom in quiet neighborhood</a></div><div class=\"h_link\"><a href=\"https://www.airbnb.com/rooms/8305468?location=Benbrook%2C%20TX\">https://www.airbnb.com/rooms/8305468?location=Benbrook%2C%20TX</a></div><div class=\"h_city\">Saginaw</div><div class=\"h_disc\">Private bedroom with queen size bed and private bathroom. Cable TV in room.  Living room with cable TV, dining room, kitchen, outdoor patio with grill and sitting area, free wifi, laundry room with washer and dryer  Brad and I work Monday through Friday 8am-5pm and my daughter is in school. We typic... </div></div><div class=\"h_result\"><div class=\"h_title\"><a href=\"https://www.airbnb.com/rooms/14184646?location=Baytown%2C%20TX\">COTTAGE GARDEN: Heights 2-bath, 2 bedroom, 2-story</a></div><div class=\"h_link\"><a href=\"https://www.airbnb.com/rooms/14184646?location=Baytown%2C%20TX\">https://www.airbnb.com/rooms/14184646?location=Baytown%2C%20TX</a></div><div class=\"h_city\">Houston</div><div class=\"h_disc\">COTTAGE GARDENS:  Private Rear Cottage ~ open loft concept w spiral staircase.  DOWNSTAIRS: Queen bed, bathroom w shower &amp; dressing room.  UPSTAIRSHuge bathroom, claw-foot tub. Upstairs - twin bed Plus full kitchen, living room, desk. Two separate entrances, full laundry, big sofa makes great ex... </div></div><div class=\"h_result\"><div class=\"h_title\"><a href=\"https://www.airbnb.com/rooms/8305468?location=Colleyville%2C%20TX\">1 Bedroom in quiet neighborhood</a></div><div class=\"h_link\"><a href=\"https://www.airbnb.com/rooms/8305468?location=Colleyville%2C%20TX\">https://www.airbnb.com/rooms/8305468?location=Colleyville%2C%20TX</a></div><div class=\"h_city\">Saginaw</div><div class=\"h_disc\">Private bedroom with queen size bed and private bathroom. Cable TV in room.  Living room with cable TV, dining room, kitchen, outdoor patio with grill and sitting area, free wifi, laundry room with washer and dryer  Brad and I work Monday through Friday 8am-5pm and my daughter is in school. We typic... </div></div><div class=\"h_result\"><div class=\"h_title\"><a href=\"https://www.airbnb.com/rooms/12087687?location=Bellaire%2C%20TX\">Sunny Cottage with pool & spa</a></div><div class=\"h_link\"><a href=\"https://www.airbnb.com/rooms/12087687?location=Bellaire%2C%20TX\">https://www.airbnb.com/rooms/12087687?location=Bellaire%2C%20TX</a></div><div class=\"h_city\">Bellaire</div><div class=\"h_disc\">Private cottage for rent located behind the main house. This one room house includes efficiency kitchen, sitting area, queen size bed and a full bathroom. Guests may use pool with lap lane attached, tan on the deck or play in the gardens. Pool is for guests staying in the pool house.... </div></div><div class=\"h_result\"><div class=\"h_title\"><a href=\"https://www.airbnb.com/rooms/17255843?location=Converse%2C%20TX\">Superb Studio Apartment with Garden View</a></div><div class=\"h_link\"><a href=\"https://www.airbnb.com/rooms/17255843?location=Converse%2C%20TX\">https://www.airbnb.com/rooms/17255843?location=Converse%2C%20TX</a></div><div class=\"h_city\">San Antonio</div><div class=\"h_disc\">Excellent design and natural beauty make this clean, comfy studio apartment special. Two private entrances and equipped for business or leisure. Bathroom has exquisite fixtures and hand-crafted cabinets, IKEA kitchenette. Queen bed and full pull-out. Pack-and-play for small guests. Sunny patio, view... </div></div><div class=\"h_result\"><div class=\"h_title\"><a href=\"https://www.airbnb.com/rooms/17251254?location=Arlington%2C%20TX\">Lakewood Private BD/BA/Study</a></div><div class=\"h_link\"><a href=\"https://www.airbnb.com/rooms/17251254?location=Arlington%2C%20TX\">https://www.airbnb.com/rooms/17251254?location=Arlington%2C%20TX</a></div><div class=\"h_city\">Dallas</div><div class=\"h_disc\">You will enjoy a large, clean, charming upstairs bedroom (conveniently separate from my room which is on the opposite side of the house) with attached full bathroom, spacious walk-in closet and your own private study/office in vibrant Lakewood Neighborhood walking distance from White Rock Lake and T... </div></div><div class=\"h_result\"><div class=\"h_title\"><a href=\"https://www.airbnb.com/rooms/1171913?location=Bastrop%20County%2C%20TX\">Private Master Suite in Bastrop</a></div><div class=\"h_link\"><a href=\"https://www.airbnb.com/rooms/1171913?location=Bastrop%20County%2C%20TX\">https://www.airbnb.com/rooms/1171913?location=Bastrop%20County%2C%20TX</a></div><div class=\"h_city\">Rosanky</div><div class=\"h_disc\">This spacious and airy Master Suit has a large attached bathroom and walk in closet. The room provides a Queen sized bed and has an attached second story private balcony. The room with its lofted ceilings, picture windows and second story vantage showcases stunning views of the wooded Texas ranch co... </div></div><div class=\"h_result\"><div class=\"h_title\"><a href=\"https://www.airbnb.com/rooms/17255843?location=Alamo%20Heights%2C%20TX\">Superb Studio Apartment with Garden View</a></div><div class=\"h_link\"><a href=\"https://www.airbnb.com/rooms/17255843?location=Alamo%20Heights%2C%20TX\">https://www.airbnb.com/rooms/17255843?location=Alamo%20Heights%2C%20TX</a></div><div class=\"h_city\">San Antonio</div><div class=\"h_disc\">Excellent design and natural beauty make this clean, comfy studio apartment special. Two private entrances and equipped for business or leisure. Bathroom has exquisite fixtures and hand-crafted cabinets, IKEA kitchenette. Queen bed and full pull-out. Pack-and-play for small guests. Sunny patio, view... </div></div></div></div>"
      ],
      "text/plain": [
       "<IPython.core.display.HTML object>"
      ]
     },
     "metadata": {},
     "output_type": "display_data"
    }
   ],
   "source": [
    "qq = input(\"Enter a search query\")\n",
    "hoohle.printResults(qq)"
   ]
  },
  {
   "cell_type": "markdown",
   "metadata": {},
   "source": [
    "### Search Engine 2 (Step 3.2) Conjunctive query & Ranking score\n",
    "For the second search engine it was necessary to create a inverted index that contains the document id and the matching tfIdf for the term in the document. This index is created at the initialization of the class *HoohleTFIDF*. He we called the function *get_TFIDF*. This function will access the functions *get_TF* and \"get_IDF\" and return the product of the values returned by these two functions. The latter returns the IDF (inverse document frequency) which is the logarithm of the total number of documents over the number of documents containt the specified term. *get_TF* returns the TF (term frequency) of a term in a document in relation to/over the length of the document. We decided to calculate the term frequency like this because a long description might contain the term more often but not provide more information and will therefore not increase the importance of the document. All three functions can be found in the class *HoohleTFIDF*. The values returned by *get_TFIDF* were then stored into the dictionary *indexTFIDF*. For storing we used the format that is described in the task explanation of the homework. \n",
    "\n",
    "To get the top k (k = 10 in our case) documents matching the search query we passed the query to *getDocsByQuery*. This function will first clean the data as already described in the explanation of *hoohleSimpe*. Then it will get the documents matching the query with the functions we used in *hoohleSimple* as well. If the list of documents returned is at least k, we will get the cosine similarity of the all documents in the list in relation to the search query by using *getCosineSimi* and add the returned value to a list containing the cosine similarity for the found documents. In this step we pass the values of *getTFIDF_query* and *getTFIDF_vector* to *getCosineSimi*. *getTFIDF_query* will calculate the tfIdf (as described earlier) of all terms in the query and return a list with all the values. *getTFIDF_vector* will return a vector, contained in a list. It accesses the precalculated *indexTFIDF* to get the tfIdf for a term in a document and then append it to the vector list. Before returning the list of the documents with the highest similarity to the search query, *getDocsByQuery* will sort the list of the similar documents by their consine similarity. For that we used the python library *heapq*. \n",
    "\n",
    "If the length of the list of documents found is smaller than k, *getDocsByQuery* will call the function *completeToK*. The latter will use the list of documents returned by *getDocsByQuery* and extend it with documents based on theier cosine similarity to the query from the user.\n"
   ]
  },
  {
   "cell_type": "markdown",
   "metadata": {},
   "source": [
    "Initiating The Search Engine by creating an object form the class *HoohleTFIDF* passing the airbnb data"
   ]
  },
  {
   "cell_type": "code",
   "execution_count": 124,
   "metadata": {},
   "outputs": [],
   "source": [
    "#data.data.index = range(len(data.data.index))\n",
    "hoohleTF = HoohleTFIDF(data, True)\n",
    "#hoohleTF.index = hoohle.index"
   ]
  },
  {
   "cell_type": "markdown",
   "metadata": {},
   "source": [
    "#### Executing The Search\n",
    "By passing user input text to *printResults* funtion."
   ]
  },
  {
   "cell_type": "code",
   "execution_count": null,
   "metadata": {},
   "outputs": [],
   "source": [
    "qq = input(\"Enter a search query\")\n",
    "hoohleTF.printResults(qq)"
   ]
  },
  {
   "cell_type": "markdown",
   "metadata": {},
   "source": [
    "Saving the index to Disk"
   ]
  },
  {
   "cell_type": "code",
   "execution_count": 64,
   "metadata": {},
   "outputs": [],
   "source": [
    "hoohleTF.saveIndex('dataframe/indexTFIDF.index')"
   ]
  },
  {
   "cell_type": "markdown",
   "metadata": {},
   "source": [
    "Reading the saved index from Disk"
   ]
  },
  {
   "cell_type": "code",
   "execution_count": null,
   "metadata": {},
   "outputs": [],
   "source": [
    "#hoohleTF.readIndex('dataframe/indexTFIDF.index')"
   ]
  },
  {
   "cell_type": "markdown",
   "metadata": {},
   "source": [
    "### Search Engine 3 (Step 4) Define a new score!\n",
    "\n",
    "Our idea for the third search engine was to use the *price*, the *number of rooms* and the *distance to the city center* (in the following called attributes) as additional information to optimize our search result. When executing the search query, the user will be asked to provide his preferences for the aforementioned attributes. As the location of the city center is not present in the provided dataset we scraped it for every city using the library *geopy* in the function *buildGeoInfo* in the class *HoohleNOSTRO*. In this class you can also find the function *insertGeoInfo* which we used to save the scraped information to our dataframe.\n",
    "\n",
    "Our first approach to define a new score was to assign a value ranging from -1 to 1 to get the similarity of the users preferences to the actual values in the dataframe\n",
    ". In this case, -1 would have been the minimum value of *price*, *number of rooms* and *distance to city center*. We would have compared the actual value the entry to the average value of the aforementioned attributes and than assigned a value in the range from -1 to 1. We didn't use this approach as we figured out a better one.\n",
    "\n",
    "The approach we used was to calculate a value in the range from 0 to 1. This score will be calculated using the functions *scoringPrice*, *scoringRoom* and *scoringLoc*. These functions are to be found in the class *HoohleNostro*. These functions will use the preferences we ask the user to provide. The minimum of every attribute will be subtracted from the value the user provided us. The result of the subtraction will then be divided by the maximum value of the attribute minus the minimum value of the attribute. \n",
    "\n",
    "During the initialization *HoohleNOSTRO* will initialize *HoohleSimple* as a parent to inherit the functions we defined in the latter class. This way we can use the *getDocsByQuery* function of *HoohleSimple*. This will output the a list of documents matching the search query of the user as described in the section __Search Engine 1 (Step 3.1)__. The difference is how we sorted these results. For that we used the function *rank* in the class *HoohleNOSTRO*. It will create a list that contains the document id and the cosine similarity. The is provided by the function *getCosineSimi* we already described. In this case this function uses information from the dictionary *indexNostro* to rank the documents of our result by their similarity to the search query. The results are then printed, ordered by the rank we found. *indexNostro* is created by the function *indexNostro* in *HoohleNOSTRO*. It will append a vector of the attributes to every listing. "
   ]
  },
  {
   "cell_type": "code",
   "execution_count": 75,
   "metadata": {},
   "outputs": [],
   "source": [
    "hoohleNostro = HoohleNOSTRO(data)"
   ]
  },
  {
   "cell_type": "markdown",
   "metadata": {},
   "source": [
    "Building the dictionary of Geo information"
   ]
  },
  {
   "cell_type": "code",
   "execution_count": 76,
   "metadata": {},
   "outputs": [],
   "source": [
    "hoohleNostro.buildGeoInfo()"
   ]
  },
  {
   "cell_type": "markdown",
   "metadata": {},
   "source": [
    "Inserting the Geo information into the dataframe, by calculating the distances to City Center *(refer to the class markdown file)* for more infromation about that"
   ]
  },
  {
   "cell_type": "code",
   "execution_count": 77,
   "metadata": {},
   "outputs": [],
   "source": [
    "hoohleNostro.insetGeoInfo()"
   ]
  },
  {
   "cell_type": "markdown",
   "metadata": {},
   "source": [
    "Building the index by creating vectors of scores for each entry"
   ]
  },
  {
   "cell_type": "code",
   "execution_count": 78,
   "metadata": {},
   "outputs": [],
   "source": [
    "hoohleNostro.buildIndex()"
   ]
  },
  {
   "cell_type": "markdown",
   "metadata": {},
   "source": [
    "Saving the index to a file."
   ]
  },
  {
   "cell_type": "code",
   "execution_count": 80,
   "metadata": {},
   "outputs": [],
   "source": [
    "hoohleNostro.saveIndex('dataframe/indexNostro.index')"
   ]
  },
  {
   "cell_type": "markdown",
   "metadata": {},
   "source": [
    "saving the Geo dictionary to a file."
   ]
  },
  {
   "cell_type": "code",
   "execution_count": 82,
   "metadata": {},
   "outputs": [],
   "source": [
    "hoohleNostro.saveIndex('dataframe/geodict.dict')"
   ]
  },
  {
   "cell_type": "code",
   "execution_count": 314,
   "metadata": {},
   "outputs": [],
   "source": [
    "#hoohleNostro.geodict = tmpDict\n",
    "#hoohleNostro.indexNostro = tmpIndexN\n",
    "#hoohleNostro.index = tmpIndex"
   ]
  },
  {
   "cell_type": "markdown",
   "metadata": {},
   "source": [
    "Showing the user interface to user, and getting their preferences and passing them to *printResults* function to show the results.\n"
   ]
  },
  {
   "cell_type": "code",
   "execution_count": 106,
   "metadata": {},
   "outputs": [
    {
     "name": "stdin",
     "output_type": "stream",
     "text": [
      "What are you looking for? private house with queen bed and garden\n",
      "price? 100\n",
      "number of rooms? 5\n",
      "In which city? San Antonio\n",
      "distance to city center? 5\n"
     ]
    },
    {
     "data": {
      "text/html": [
       "<style>.container {\n",
       "    width:100%;\n",
       "    border:1px solid #eee;\n",
       "    margin: 3px;\n",
       "    padding:3px;\n",
       "    font-family: Tahoma;\n",
       "    background-color: #91ced4;\n",
       "    text-align: left;\n",
       "    float: left;\n",
       "    position: relative;\n",
       "    left: 0;\n",
       "    \n",
       "}\n",
       "table, tr, td, th{\n",
       "    text-align:left;\n",
       "}\n",
       "\n",
       ".container .div_result{\n",
       "    width:90%;\n",
       "    float: left;\n",
       "    position: relative;\n",
       "    left: 5%;\n",
       "    top: 10px;\n",
       "    \n",
       "    \n",
       "}\n",
       "\n",
       ".container table td, table th {\n",
       "  color: #2b686e;\n",
       "  padding: 10px;\n",
       "}\n",
       ".container table td {\n",
       "  text-align: center;\n",
       "  vertical-align: middle;\n",
       "}\n",
       ".container table td:last-child {\n",
       "  font-size: 0.95em;\n",
       "  line-height: 1.4;\n",
       "  text-align: left;\n",
       "}\n",
       ".container table th {\n",
       "  background-color: #daeff1;\n",
       "  font-weight: 300;\n",
       "}\n",
       ".container table tr:nth-child(2n) {\n",
       "  background-color: white;\n",
       "}\n",
       ".container table tr:nth-child(2n+1) {\n",
       "  background-color: #edf7f8;\n",
       "}\n",
       ".container table tr:hover {\n",
       "  background-color: #efe1ac;\n",
       "  border: 1px solid #f4ce42;\n",
       "\n",
       "}\n",
       ".Hoohle{\n",
       "    font-family:arial,sans-serif;\n",
       "    width:100%;\n",
       "    border:1px solid #eee;\n",
       "    margin: 3px;\n",
       "    padding:3px;\n",
       "    background-color: #fff;\n",
       "    text-align: left;\n",
       "    float: left;\n",
       "    position: relative;\n",
       "    left: 0;\n",
       "    background-image:url(https://github.com/ha-ismail/ADM-HW3-G9/blob/master/style/hoohlelogo.png?raw=true);\n",
       "    background-position: left top; /* Center the image */\n",
       "    background-repeat: no-repeat; /* Do not repeat the image */\n",
       "    \n",
       "}\n",
       ".Hoohle div.h_results{\n",
       "    padding-top:70px;\n",
       "    margin:3px;\n",
       "\n",
       "    \n",
       "}\n",
       ".Hoohle div.h_result{\n",
       "    padding-left:3px;\n",
       "    margin-bottom:10px;\n",
       "    width: 90%;\n",
       "}\n",
       ".Hoohle div.h_result:hover{\n",
       "    /*background-color: #eee;*/\n",
       "    border-right:2px solid #acc6ef;\n",
       "    \n",
       "}\n",
       "\n",
       ".Hoohle div.h_score{\n",
       "    /*padding-left:3px;\n",
       "    margin-bottom:10px;\n",
       "    width: 600px;*/\n",
       "    color: #f45c42;\n",
       "}\n",
       "\n",
       ".Hoohle div.h_rank{\n",
       "    float: left;\n",
       "    height: 20px;\n",
       "    width: 20px;\n",
       "\n",
       "    color: #f4424e;\n",
       "}\n",
       "\n",
       ".Hoohle div{\n",
       "    font-family:arial,sans-serif;\n",
       "}\n",
       ".Hoohle div.h_title a:link, a:visited{\n",
       "    color: rgb(26, 13, 171);\n",
       "    display: inline-block;\n",
       "    font-size: 18px;\n",
       "    font-family:arial,sans-serif;\n",
       "}\n",
       ".Hoohle div.h_link a:link, a:visited{\n",
       "    color: #006621;\n",
       "    display: inline-block;\n",
       "    font-size: 14px;\n",
       "    font-family:arial,sans-serif;\n",
       "    padding-top:1px;\n",
       "}\n",
       ".Hoohle div.h_link a:hover{\n",
       "    text-decoration: none;\n",
       "}\n",
       ".Hoohle h_disc{\n",
       "    font-size: small;\n",
       "    \n",
       "}\n",
       ".h_disc > span:nth-child(odd)[style],\n",
       ".h_disc > span:nth-child(even)[style]{\n",
       "    font-style: normal; !important;\n",
       "}\n",
       "\n",
       "/* unvisited link */\n",
       ".container a:link {\n",
       "    color: red;\n",
       "}\n",
       "\n",
       "/* visited link */\n",
       ".container a:visited {\n",
       "    color: green;\n",
       "}\n",
       "\n",
       "/* mouse over link */\n",
       ".container a:hover {\n",
       "    color: hotpink;\n",
       "    text-decoration: underline;\n",
       "}\n",
       "\n",
       "/* selected link */\n",
       ".container a:active {\n",
       "    color: blue;\n",
       "    text-decoration: underline;\n",
       "}\n",
       "\n",
       "</style><div class=\"Hoohle\" ><div class=\"h_results\"><div class=\"h_result\"><div class=\"h_rank\">1</div><div class=\"h_title\"><a href=\"https://www.airbnb.com/rooms/7047741?location=Arlington%2C%20TX\">Secluded Treasure in Heart of City</a></div><div class=\"h_link\"><a href=\"https://www.airbnb.com/rooms/7047741?location=Arlington%2C%20TX\">https://www.airbnb.com/rooms/7047741?location=Arlington%2C%20TX</a></div><div class=\"h_disc\">Escape the bustle of Dallas to your own private Guest House located in a garden setting! Unwind poolside or relax in the hot tub. Guest House includes queen bed, full bath, kitchenette, continental breakfast, WiFi. Country in the heart of the City!  See our other posting \\... </div></div><div class=\"h_result\"><div class=\"h_rank\">2</div><div class=\"h_title\"><a href=\"https://www.airbnb.com/rooms/7047741?location=Balch%20Springs%2C%20TX\">Secluded Treasure in Heart of City</a></div><div class=\"h_link\"><a href=\"https://www.airbnb.com/rooms/7047741?location=Balch%20Springs%2C%20TX\">https://www.airbnb.com/rooms/7047741?location=Balch%20Springs%2C%20TX</a></div><div class=\"h_disc\">Escape the bustle of Dallas to your own private Guest House located in a garden setting! Unwind poolside or relax in the hot tub. Guest House includes queen bed, full bath, kitchenette, continental breakfast, WiFi. Country in the heart of the City!  See our other posting \\... </div></div><div class=\"h_result\"><div class=\"h_rank\">3</div><div class=\"h_title\"><a href=\"https://www.airbnb.com/rooms/12087687?location=Bellaire%2C%20TX\">Sunny Cottage with pool & spa</a></div><div class=\"h_link\"><a href=\"https://www.airbnb.com/rooms/12087687?location=Bellaire%2C%20TX\">https://www.airbnb.com/rooms/12087687?location=Bellaire%2C%20TX</a></div><div class=\"h_disc\">Private cottage for rent located behind the main house. This one room house includes efficiency kitchen, sitting area, queen size bed and a full bathroom. Guests may use pool with lap lane attached, tan on the deck or play in the gardens. Pool is for guests staying in the pool house.... </div></div><div class=\"h_result\"><div class=\"h_rank\">4</div><div class=\"h_title\"><a href=\"https://www.airbnb.com/rooms/8305468?location=Azle%2C%20TX\">1 Bedroom in quiet neighborhood</a></div><div class=\"h_link\"><a href=\"https://www.airbnb.com/rooms/8305468?location=Azle%2C%20TX\">https://www.airbnb.com/rooms/8305468?location=Azle%2C%20TX</a></div><div class=\"h_disc\">Private bedroom with queen size bed and private bathroom. Cable TV in room.  Living room with cable TV, dining room, kitchen, outdoor patio with grill and sitting area, free wifi, laundry room with washer and dryer  Brad and I work Monday through Friday 8am-5pm and my daughter is in school. We typic... </div></div><div class=\"h_result\"><div class=\"h_rank\">5</div><div class=\"h_title\"><a href=\"https://www.airbnb.com/rooms/8305468?location=Colleyville%2C%20TX\">1 Bedroom in quiet neighborhood</a></div><div class=\"h_link\"><a href=\"https://www.airbnb.com/rooms/8305468?location=Colleyville%2C%20TX\">https://www.airbnb.com/rooms/8305468?location=Colleyville%2C%20TX</a></div><div class=\"h_disc\">Private bedroom with queen size bed and private bathroom. Cable TV in room.  Living room with cable TV, dining room, kitchen, outdoor patio with grill and sitting area, free wifi, laundry room with washer and dryer  Brad and I work Monday through Friday 8am-5pm and my daughter is in school. We typic... </div></div><div class=\"h_result\"><div class=\"h_rank\">6</div><div class=\"h_title\"><a href=\"https://www.airbnb.com/rooms/7047741?location=Brazos%20River%2C%20TX\">Secluded Treasure in Heart of City</a></div><div class=\"h_link\"><a href=\"https://www.airbnb.com/rooms/7047741?location=Brazos%20River%2C%20TX\">https://www.airbnb.com/rooms/7047741?location=Brazos%20River%2C%20TX</a></div><div class=\"h_disc\">Escape the bustle of Dallas to your own private Guest House located in a garden setting! Unwind poolside or relax in the hot tub. Guest House includes queen bed, full bath, kitchenette, continental breakfast, WiFi. Country in the heart of the City!  See our other posting \\... </div></div><div class=\"h_result\"><div class=\"h_rank\">7</div><div class=\"h_title\"><a href=\"https://www.airbnb.com/rooms/17255843?location=Alamo%20Heights%2C%20TX\">Superb Studio Apartment with Garden View</a></div><div class=\"h_link\"><a href=\"https://www.airbnb.com/rooms/17255843?location=Alamo%20Heights%2C%20TX\">https://www.airbnb.com/rooms/17255843?location=Alamo%20Heights%2C%20TX</a></div><div class=\"h_disc\">Excellent design and natural beauty make this clean, comfy studio apartment special. Two private entrances and equipped for business or leisure. Bathroom has exquisite fixtures and hand-crafted cabinets, IKEA kitchenette. Queen bed and full pull-out. Pack-and-play for small guests. Sunny patio, view... </div></div><div class=\"h_result\"><div class=\"h_rank\">8</div><div class=\"h_title\"><a href=\"https://www.airbnb.com/rooms/17251254?location=Arlington%2C%20TX\">Lakewood Private BD/BA/Study</a></div><div class=\"h_link\"><a href=\"https://www.airbnb.com/rooms/17251254?location=Arlington%2C%20TX\">https://www.airbnb.com/rooms/17251254?location=Arlington%2C%20TX</a></div><div class=\"h_disc\">You will enjoy a large, clean, charming upstairs bedroom (conveniently separate from my room which is on the opposite side of the house) with attached full bathroom, spacious walk-in closet and your own private study/office in vibrant Lakewood Neighborhood walking distance from White Rock Lake and T... </div></div><div class=\"h_result\"><div class=\"h_rank\">9</div><div class=\"h_title\"><a href=\"https://www.airbnb.com/rooms/17251254?location=Balch%20Springs%2C%20TX\">Lakewood Private BD/BA/Study</a></div><div class=\"h_link\"><a href=\"https://www.airbnb.com/rooms/17251254?location=Balch%20Springs%2C%20TX\">https://www.airbnb.com/rooms/17251254?location=Balch%20Springs%2C%20TX</a></div><div class=\"h_disc\">You will enjoy a large, clean, charming upstairs bedroom (conveniently separate from my room which is on the opposite side of the house) with attached full bathroom, spacious walk-in closet and your own private study/office in vibrant Lakewood Neighborhood walking distance from White Rock Lake and T... </div></div><div class=\"h_result\"><div class=\"h_rank\">10</div><div class=\"h_title\"><a href=\"https://www.airbnb.com/rooms/17251254?location=Carrollton%2C%20TX\">Lakewood Private BD/BA/Study</a></div><div class=\"h_link\"><a href=\"https://www.airbnb.com/rooms/17251254?location=Carrollton%2C%20TX\">https://www.airbnb.com/rooms/17251254?location=Carrollton%2C%20TX</a></div><div class=\"h_disc\">You will enjoy a large, clean, charming upstairs bedroom (conveniently separate from my room which is on the opposite side of the house) with attached full bathroom, spacious walk-in closet and your own private study/office in vibrant Lakewood Neighborhood walking distance from White Rock Lake and T... </div></div><div class=\"h_result\"><div class=\"h_rank\">11</div><div class=\"h_title\"><a href=\"https://www.airbnb.com/rooms/8305468?location=Benbrook%2C%20TX\">1 Bedroom in quiet neighborhood</a></div><div class=\"h_link\"><a href=\"https://www.airbnb.com/rooms/8305468?location=Benbrook%2C%20TX\">https://www.airbnb.com/rooms/8305468?location=Benbrook%2C%20TX</a></div><div class=\"h_disc\">Private bedroom with queen size bed and private bathroom. Cable TV in room.  Living room with cable TV, dining room, kitchen, outdoor patio with grill and sitting area, free wifi, laundry room with washer and dryer  Brad and I work Monday through Friday 8am-5pm and my daughter is in school. We typic... </div></div><div class=\"h_result\"><div class=\"h_rank\">12</div><div class=\"h_title\"><a href=\"https://www.airbnb.com/rooms/17255843?location=Converse%2C%20TX\">Superb Studio Apartment with Garden View</a></div><div class=\"h_link\"><a href=\"https://www.airbnb.com/rooms/17255843?location=Converse%2C%20TX\">https://www.airbnb.com/rooms/17255843?location=Converse%2C%20TX</a></div><div class=\"h_disc\">Excellent design and natural beauty make this clean, comfy studio apartment special. Two private entrances and equipped for business or leisure. Bathroom has exquisite fixtures and hand-crafted cabinets, IKEA kitchenette. Queen bed and full pull-out. Pack-and-play for small guests. Sunny patio, view... </div></div><div class=\"h_result\"><div class=\"h_rank\">13</div><div class=\"h_title\"><a href=\"https://www.airbnb.com/rooms/17255843?location=Bulverde%2C%20TX\">Superb Studio Apartment with Garden View</a></div><div class=\"h_link\"><a href=\"https://www.airbnb.com/rooms/17255843?location=Bulverde%2C%20TX\">https://www.airbnb.com/rooms/17255843?location=Bulverde%2C%20TX</a></div><div class=\"h_disc\">Excellent design and natural beauty make this clean, comfy studio apartment special. Two private entrances and equipped for business or leisure. Bathroom has exquisite fixtures and hand-crafted cabinets, IKEA kitchenette. Queen bed and full pull-out. Pack-and-play for small guests. Sunny patio, view... </div></div></div></div>"
      ],
      "text/plain": [
       "<IPython.core.display.HTML object>"
      ]
     },
     "metadata": {},
     "output_type": "display_data"
    }
   ],
   "source": [
    "def showUI():\n",
    "        qq = input(\"What are you looking for?\")\n",
    "        qprice = input(\"Price (in $)?\")\n",
    "        qrooms = input(\"Number of rooms?\")\n",
    "        qcity = input(\"In which city?\")\n",
    "        qdist = input(\"Distance to city center (in km)?\")\n",
    "        hoohleNostro.printResults(qq, [float(qprice), float(qrooms), qcity, float(qdist)])\n",
    "showUI()"
   ]
  },
  {
   "cell_type": "markdown",
   "metadata": {},
   "source": [
    "#### Bonus Step\n",
    "\n"
   ]
  },
  {
   "cell_type": "code",
   "execution_count": 127,
   "metadata": {},
   "outputs": [
    {
     "name": "stdin",
     "output_type": "stream",
     "text": [
      " 32.87876767\n",
      " -97.00324223\n"
     ]
    }
   ],
   "source": [
    "distanceFrom=[float(input()),float(input())]"
   ]
  },
  {
   "cell_type": "code",
   "execution_count": 148,
   "metadata": {},
   "outputs": [
    {
     "name": "stdin",
     "output_type": "stream",
     "text": [
      " 3\n"
     ]
    }
   ],
   "source": [
    "dis=float(input())"
   ]
  },
  {
   "cell_type": "code",
   "execution_count": 149,
   "metadata": {},
   "outputs": [
    {
     "data": {
      "text/html": [
       "<div style=\"width:100%;\"><div style=\"position:relative;width:100%;height:0;padding-bottom:60%;\"><iframe src=\"data:text/html;charset=utf-8;base64,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\" style=\"position:absolute;width:100%;height:100%;left:0;top:0;border:none !important;\" allowfullscreen webkitallowfullscreen mozallowfullscreen></iframe></div></div>"
      ],
      "text/plain": [
       "<folium.folium.Map at 0x1a324f6978>"
      ]
     },
     "execution_count": 149,
     "metadata": {},
     "output_type": "execute_result"
    }
   ],
   "source": [
    "m = folium.Map(location=[distanceFrom[0],distanceFrom[1]])\n",
    "data.data.index = range(len(data.data.index))\n",
    "folium.Circle(\n",
    "    location=[distanceFrom[0],distanceFrom[1]],\n",
    "    radius=dis*1000,\n",
    "    color='#3186cc',\n",
    "    fill=True,\n",
    "    fill_color='#3186cc'\n",
    ").add_to(m)\n",
    "\n",
    "for i in range(len(data.data)):\n",
    "    coor=(data.data['latitude'][i], data.data['longitude'][i])\n",
    "    if geopy.distance.distance(distanceFrom, coor).km<=dis:\n",
    "        folium.Marker(coor, popup=str(data.data['title'][i])).add_to(m)\n",
    "\n",
    "m"
   ]
  },
  {
   "cell_type": "code",
   "execution_count": null,
   "metadata": {},
   "outputs": [],
   "source": []
  }
 ],
 "metadata": {
  "kernelspec": {
   "display_name": "Python 3",
   "language": "python",
   "name": "python3"
  },
  "language_info": {
   "codemirror_mode": {
    "name": "ipython",
    "version": 3
   },
   "file_extension": ".py",
   "mimetype": "text/x-python",
   "name": "python",
   "nbconvert_exporter": "python",
   "pygments_lexer": "ipython3",
   "version": "3.7.0"
  }
 },
 "nbformat": 4,
 "nbformat_minor": 2
}
